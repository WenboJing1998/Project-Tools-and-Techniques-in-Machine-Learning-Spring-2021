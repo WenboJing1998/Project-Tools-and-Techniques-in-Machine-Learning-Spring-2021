{
  "nbformat": 4,
  "nbformat_minor": 0,
  "metadata": {
    "colab": {
      "name": "selection_bias_new.ipynb",
      "provenance": []
    },
    "kernelspec": {
      "name": "python3",
      "display_name": "Python 3"
    },
    "language_info": {
      "name": "python"
    }
  },
  "cells": [
    {
      "cell_type": "code",
      "metadata": {
        "colab": {
          "base_uri": "https://localhost:8080/"
        },
        "id": "waDSz_MbJPt3",
        "outputId": "4eed8287-973c-4f8b-f1fc-31dbb35daf04"
      },
      "source": [
        "# mount the drive\n",
        "from google.colab import drive\n",
        "drive.mount('/content/drive')"
      ],
      "execution_count": 2,
      "outputs": [
        {
          "output_type": "stream",
          "text": [
            "Drive already mounted at /content/drive; to attempt to forcibly remount, call drive.mount(\"/content/drive\", force_remount=True).\n"
          ],
          "name": "stdout"
        }
      ]
    },
    {
      "cell_type": "code",
      "metadata": {
        "colab": {
          "base_uri": "https://localhost:8080/"
        },
        "id": "6UaD0kV3JUv-",
        "outputId": "0aa570ab-d3e4-47e9-a163-5948d2677d0f"
      },
      "source": [
        "cd /content/drive/My Drive/TTML Final Project"
      ],
      "execution_count": 3,
      "outputs": [
        {
          "output_type": "stream",
          "text": [
            "/content/drive/My Drive/TTML Final Project\n"
          ],
          "name": "stdout"
        }
      ]
    },
    {
      "cell_type": "code",
      "metadata": {
        "id": "ixuU-WP_Josp"
      },
      "source": [
        "pip install econml"
      ],
      "execution_count": null,
      "outputs": []
    },
    {
      "cell_type": "code",
      "metadata": {
        "id": "0tV8JG3FJWLo"
      },
      "source": [
        "from sklearn.model_selection import train_test_split\n",
        "import matplotlib.pyplot as plt\n",
        "from tqdm import tqdm\n",
        "from sklearn.ensemble import RandomForestClassifier, RandomForestRegressor, GradientBoostingClassifier, GradientBoostingRegressor\n",
        "import numpy as np\n",
        "import pandas as pd\n",
        "from econml.metalearners import XLearner, SLearner, TLearner\n",
        "import time\n",
        "import seaborn as sns\n",
        "from sklearn.linear_model import LogisticRegression\n",
        "import matplotlib.ticker as ticker"
      ],
      "execution_count": 61,
      "outputs": []
    },
    {
      "cell_type": "code",
      "metadata": {
        "id": "rUo7Q5vIJsbm"
      },
      "source": [
        "df = pd.read_csv(\"gotv.csv\", header=0, names=[\"ID\", 'sex', 'g2000', 'g2002', 'p2000', 'p2002', 'p2004', 'age', 'treatment', 'voted'])"
      ],
      "execution_count": 7,
      "outputs": []
    },
    {
      "cell_type": "markdown",
      "metadata": {
        "id": "wSMHAp-NeX1c"
      },
      "source": [
        "# Random Forest Base Learner"
      ]
    },
    {
      "cell_type": "code",
      "metadata": {
        "colab": {
          "base_uri": "https://localhost:8080/"
        },
        "id": "dTu4K5rKJsfu",
        "outputId": "687ba3ce-fd0b-4e4a-fcac-5a0185e64798"
      },
      "source": [
        "t_learner = TLearner(models=RandomForestRegressor())\n",
        "t_learner.fit(Y=df.iloc[:,-1], T=df.iloc[:,-2], X=df.iloc[:,1:-2])"
      ],
      "execution_count": 36,
      "outputs": [
        {
          "output_type": "execute_result",
          "data": {
            "text/plain": [
              "<econml.metalearners._metalearners.TLearner at 0x7f54f0869310>"
            ]
          },
          "metadata": {
            "tags": []
          },
          "execution_count": 36
        }
      ]
    },
    {
      "cell_type": "code",
      "metadata": {
        "id": "J_DN0bo6Jsjb"
      },
      "source": [
        "%%time\n",
        "num_of_trail = 100\n",
        "seeds = np.random.randint(1,9999,num_of_trail)\n",
        "rf_biases = []\n",
        "rf_vars = []\n",
        "rf_rmses = []\n",
        "for seed in tqdm(seeds):\n",
        "    trainset, testset = train_test_split(df, test_size=0.5, random_state=seed)\n",
        "\n",
        "    ground_truth = t_learner.effect(testset.iloc[:,1:-2])\n",
        "\n",
        "    x_learner = XLearner(models=RandomForestRegressor(),\n",
        "              propensity_model=RandomForestClassifier(),\n",
        "              cate_models=RandomForestRegressor())\n",
        "    x_learner.fit(Y=trainset.iloc[:,-1], T=trainset.iloc[:,-2], X=trainset.iloc[:,1:-2])\n",
        "    treatment_effects = x_learner.effect(testset.iloc[:,1:-2])\n",
        "\n",
        "    bias = np.mean(np.abs(treatment_effects - ground_truth))\n",
        "    var = np.var(treatment_effects)\n",
        "    rmse = np.sqrt(np.mean((treatment_effects - ground_truth)**2))\n",
        "\n",
        "    rf_biases.append(bias)\n",
        "    rf_vars.append(var)\n",
        "    rf_rmses.append(rmse)"
      ],
      "execution_count": null,
      "outputs": []
    },
    {
      "cell_type": "code",
      "metadata": {
        "colab": {
          "base_uri": "https://localhost:8080/",
          "height": 299
        },
        "id": "nQHv_5xNLg9H",
        "outputId": "c8a3a641-9d31-4e35-e665-8171b4ad4bac"
      },
      "source": [
        "plt.boxplot([rf_biases, rf_vars, rf_rmses])\n",
        "plt.xticks([1,2,3], [\"X-Learner,vars,rmses\"])\n",
        "plt.ylabel(\"bias\")\n",
        "plt.title(\"Bias of X_learner for differnce seed (Random Forest)\")"
      ],
      "execution_count": 38,
      "outputs": [
        {
          "output_type": "execute_result",
          "data": {
            "text/plain": [
              "Text(0.5, 1.0, 'Bias of X_learner for differnce seed (Random Forest)')"
            ]
          },
          "metadata": {
            "tags": []
          },
          "execution_count": 38
        },
        {
          "output_type": "display_data",
          "data": {
            "image/png": "[encoded data removed]",
            "text/plain": [
              "<Figure size 432x288 with 1 Axes>"
            ]
          },
          "metadata": {
            "tags": [],
            "needs_background": "light"
          }
        }
      ]
    },
    {
      "cell_type": "markdown",
      "metadata": {
        "id": "VZb4xYqPea10"
      },
      "source": [
        "# Gadiant Boosting Baseline Learner"
      ]
    },
    {
      "cell_type": "code",
      "metadata": {
        "colab": {
          "base_uri": "https://localhost:8080/"
        },
        "id": "-t40MBAHhlWB",
        "outputId": "c4f4615e-5586-4739-f577-9bf5cbeac1e0"
      },
      "source": [
        "gb_t_learner = TLearner(models=GradientBoostingRegressor())\n",
        "gb_t_learner.fit(Y=df.iloc[:,-1], T=df.iloc[:,-2], X=df.iloc[:,1:-2])"
      ],
      "execution_count": 63,
      "outputs": [
        {
          "output_type": "execute_result",
          "data": {
            "text/plain": [
              "<econml.metalearners._metalearners.TLearner at 0x7f54e80b44d0>"
            ]
          },
          "metadata": {
            "tags": []
          },
          "execution_count": 63
        }
      ]
    },
    {
      "cell_type": "code",
      "metadata": {
        "id": "xRi32BEQhlar"
      },
      "source": [
        "%%time\n",
        "num_of_trail = 100\n",
        "seeds = np.random.randint(1,9999,num_of_trail)\n",
        "gb_biases = []\n",
        "gb_vars = []\n",
        "gb_rmses = []\n",
        "for seed in tqdm(seeds):\n",
        "    trainset, testset = train_test_split(df, test_size=0.5, random_state=seed)\n",
        "\n",
        "    ground_truth = gb_t_learner.effect(testset.iloc[:,1:-2])\n",
        "\n",
        "    x_learner = XLearner(models=GradientBoostingRegressor(),\n",
        "              propensity_model=GradientBoostingClassifier(),\n",
        "              cate_models=GradientBoostingRegressor())\n",
        "    x_learner.fit(Y=trainset.iloc[:,-1], T=trainset.iloc[:,-2], X=trainset.iloc[:,1:-2])\n",
        "    treatment_effects = x_learner.effect(testset.iloc[:,1:-2])\n",
        "\n",
        "    bias = np.mean(np.abs(treatment_effects - ground_truth))\n",
        "    var = np.var(treatment_effects)\n",
        "    rmse = np.sqrt(np.mean((treatment_effects - ground_truth)**2))\n",
        "\n",
        "    gb_biases.append(bias)\n",
        "    gb_vars.append(var)\n",
        "    gb_rmses.append(rmse)"
      ],
      "execution_count": null,
      "outputs": []
    },
    {
      "cell_type": "markdown",
      "metadata": {
        "id": "rOrhb2pZ79Vp"
      },
      "source": [
        "# LR Baseline Learner"
      ]
    },
    {
      "cell_type": "code",
      "metadata": {
        "id": "3jB3K8RC8Fwj"
      },
      "source": [
        "from sklearn.linear_model import LogisticRegression"
      ],
      "execution_count": 54,
      "outputs": []
    },
    {
      "cell_type": "code",
      "metadata": {
        "colab": {
          "base_uri": "https://localhost:8080/"
        },
        "id": "7_G9dvMu8CMv",
        "outputId": "7eab288b-8493-4339-8c3f-b7e96c3b88a0"
      },
      "source": [
        "lr_t_learner = TLearner(models=LogisticRegression())\n",
        "lr_t_learner.fit(Y=df.iloc[:,-1], T=df.iloc[:,-2], X=df.iloc[:,1:-2])"
      ],
      "execution_count": 55,
      "outputs": [
        {
          "output_type": "execute_result",
          "data": {
            "text/plain": [
              "<econml.metalearners._metalearners.TLearner at 0x7f54f034b890>"
            ]
          },
          "metadata": {
            "tags": []
          },
          "execution_count": 55
        }
      ]
    },
    {
      "cell_type": "code",
      "metadata": {
        "id": "hY-6DMph8CQm"
      },
      "source": [
        "%%time\n",
        "num_of_trail = 100\n",
        "seeds = np.random.randint(1,9999,num_of_trail)\n",
        "lr_biases = []\n",
        "lr_vars = []\n",
        "lr_rmses = []\n",
        "for seed in tqdm(seeds):\n",
        "    trainset, testset = train_test_split(df, test_size=0.5, random_state=seed)\n",
        "\n",
        "    ground_truth = lr_t_learner.effect(testset.iloc[:,1:-2])\n",
        "\n",
        "    x_learner = XLearner(models=LogisticRegression(max_iter=100000),\n",
        "              propensity_model=LogisticRegression(max_iter=100000),\n",
        "              cate_models=LogisticRegression(max_iter=100000))\n",
        "    x_learner.fit(Y=trainset.iloc[:,-1], T=trainset.iloc[:,-2], X=trainset.iloc[:,1:-2])\n",
        "    treatment_effects = x_learner.effect(testset.iloc[:,1:-2])\n",
        "\n",
        "    bias = np.mean(np.abs(treatment_effects - ground_truth))\n",
        "    var = np.var(treatment_effects)\n",
        "    rmse = np.sqrt(np.mean((treatment_effects - ground_truth)**2))\n",
        "\n",
        "    lr_biases.append(bias)\n",
        "    lr_vars.append(var)\n",
        "    lr_rmses.append(rmse)"
      ],
      "execution_count": null,
      "outputs": []
    },
    {
      "cell_type": "code",
      "metadata": {
        "colab": {
          "base_uri": "https://localhost:8080/",
          "height": 300
        },
        "id": "ccwdPalFhleL",
        "outputId": "9c08c694-29d8-49ec-9464-044cad862383"
      },
      "source": [
        "plt.boxplot([rf_biases, gb_biases, lr_biases])\n",
        "plt.xticks([1,2,3], [\"Random_Forest\", \"Gradient_Boosting\", \"Logistic Regression\"])\n",
        "plt.ylabel(\"bias\")\n",
        "plt.title(\"Bias of X_learner for differnce seed\")"
      ],
      "execution_count": 68,
      "outputs": [
        {
          "output_type": "execute_result",
          "data": {
            "text/plain": [
              "Text(0.5, 1.0, 'Bias of X_learner for differnce seed')"
            ]
          },
          "metadata": {
            "tags": []
          },
          "execution_count": 68
        },
        {
          "output_type": "display_data",
          "data": {
            "image/png": "[encoded data removed]",
            "text/plain": [
              "<Figure size 432x288 with 1 Axes>"
            ]
          },
          "metadata": {
            "tags": [],
            "needs_background": "light"
          }
        }
      ]
    },
    {
      "cell_type": "code",
      "metadata": {
        "colab": {
          "base_uri": "https://localhost:8080/",
          "height": 300
        },
        "id": "vBSia63j7YXK",
        "outputId": "69eb8744-c959-42e9-b0f9-ca1acf653805"
      },
      "source": [
        "plt.boxplot([rf_vars, gb_vars, lr_vars])\n",
        "plt.xticks([1,2,3], [\"Random_Forest\", \"Gradient_Boosting\", \"Logistic Regression\"])\n",
        "plt.ylabel(\"variance\")\n",
        "plt.title(\"Variance of X_learner for differnce seed\")"
      ],
      "execution_count": 69,
      "outputs": [
        {
          "output_type": "execute_result",
          "data": {
            "text/plain": [
              "Text(0.5, 1.0, 'Variance of X_learner for differnce seed')"
            ]
          },
          "metadata": {
            "tags": []
          },
          "execution_count": 69
        },
        {
          "output_type": "display_data",
          "data": {
            "image/png": "[encoded data removed]",
            "text/plain": [
              "<Figure size 432x288 with 1 Axes>"
            ]
          },
          "metadata": {
            "tags": [],
            "needs_background": "light"
          }
        }
      ]
    },
    {
      "cell_type": "code",
      "metadata": {
        "colab": {
          "base_uri": "https://localhost:8080/",
          "height": 300
        },
        "id": "cJ9R-4jt7oal",
        "outputId": "280dd899-12bc-464d-fd66-5e6846ca9e8c"
      },
      "source": [
        "plt.boxplot([rf_rmses, gb_rmses, lr_rmses])\n",
        "plt.xticks([1,2,3], [\"Random_Forest\", \"Gradient_Boosting\", \"Logistic Regression\"])\n",
        "plt.ylabel(\"RMSE\")\n",
        "plt.title(\"RMSE of X_learner for differnce seed\")"
      ],
      "execution_count": 70,
      "outputs": [
        {
          "output_type": "execute_result",
          "data": {
            "text/plain": [
              "Text(0.5, 1.0, 'RMSE of X_learner for differnce seed')"
            ]
          },
          "metadata": {
            "tags": []
          },
          "execution_count": 70
        },
        {
          "output_type": "display_data",
          "data": {
            "image/png": "[encoded data removed]",
            "text/plain": [
              "<Figure size 432x288 with 1 Axes>"
            ]
          },
          "metadata": {
            "tags": [],
            "needs_background": "light"
          }
        }
      ]
    },
    {
      "cell_type": "markdown",
      "metadata": {
        "id": "j68Ct7CMNj5C"
      },
      "source": [
        "# Human selected dataset"
      ]
    },
    {
      "cell_type": "code",
      "metadata": {
        "colab": {
          "base_uri": "https://localhost:8080/",
          "height": 419
        },
        "id": "O6MI9Sa_NTGF",
        "outputId": "63bdb29a-367a-4bb2-d51d-08ece033ec2f"
      },
      "source": [
        "df"
      ],
      "execution_count": 8,
      "outputs": [
        {
          "output_type": "execute_result",
          "data": {
            "text/html": [
              "<div>\n",
              "<style scoped>\n",
              "    .dataframe tbody tr th:only-of-type {\n",
              "        vertical-align: middle;\n",
              "    }\n",
              "\n",
              "    .dataframe tbody tr th {\n",
              "        vertical-align: top;\n",
              "    }\n",
              "\n",
              "    .dataframe thead th {\n",
              "        text-align: right;\n",
              "    }\n",
              "</style>\n",
              "<table border=\"1\" class=\"dataframe\">\n",
              "  <thead>\n",
              "    <tr style=\"text-align: right;\">\n",
              "      <th></th>\n",
              "      <th>ID</th>\n",
              "      <th>sex</th>\n",
              "      <th>g2000</th>\n",
              "      <th>g2002</th>\n",
              "      <th>p2000</th>\n",
              "      <th>p2002</th>\n",
              "      <th>p2004</th>\n",
              "      <th>age</th>\n",
              "      <th>treatment</th>\n",
              "      <th>voted</th>\n",
              "    </tr>\n",
              "  </thead>\n",
              "  <tbody>\n",
              "    <tr>\n",
              "      <th>0</th>\n",
              "      <td>1</td>\n",
              "      <td>1</td>\n",
              "      <td>1</td>\n",
              "      <td>1</td>\n",
              "      <td>0</td>\n",
              "      <td>1</td>\n",
              "      <td>0</td>\n",
              "      <td>65</td>\n",
              "      <td>1</td>\n",
              "      <td>0</td>\n",
              "    </tr>\n",
              "    <tr>\n",
              "      <th>1</th>\n",
              "      <td>2</td>\n",
              "      <td>0</td>\n",
              "      <td>1</td>\n",
              "      <td>1</td>\n",
              "      <td>0</td>\n",
              "      <td>1</td>\n",
              "      <td>0</td>\n",
              "      <td>59</td>\n",
              "      <td>1</td>\n",
              "      <td>0</td>\n",
              "    </tr>\n",
              "    <tr>\n",
              "      <th>2</th>\n",
              "      <td>6</td>\n",
              "      <td>1</td>\n",
              "      <td>0</td>\n",
              "      <td>0</td>\n",
              "      <td>0</td>\n",
              "      <td>0</td>\n",
              "      <td>0</td>\n",
              "      <td>25</td>\n",
              "      <td>0</td>\n",
              "      <td>0</td>\n",
              "    </tr>\n",
              "    <tr>\n",
              "      <th>3</th>\n",
              "      <td>7</td>\n",
              "      <td>0</td>\n",
              "      <td>1</td>\n",
              "      <td>1</td>\n",
              "      <td>0</td>\n",
              "      <td>1</td>\n",
              "      <td>0</td>\n",
              "      <td>47</td>\n",
              "      <td>0</td>\n",
              "      <td>1</td>\n",
              "    </tr>\n",
              "    <tr>\n",
              "      <th>4</th>\n",
              "      <td>8</td>\n",
              "      <td>1</td>\n",
              "      <td>1</td>\n",
              "      <td>1</td>\n",
              "      <td>0</td>\n",
              "      <td>1</td>\n",
              "      <td>0</td>\n",
              "      <td>50</td>\n",
              "      <td>0</td>\n",
              "      <td>1</td>\n",
              "    </tr>\n",
              "    <tr>\n",
              "      <th>...</th>\n",
              "      <td>...</td>\n",
              "      <td>...</td>\n",
              "      <td>...</td>\n",
              "      <td>...</td>\n",
              "      <td>...</td>\n",
              "      <td>...</td>\n",
              "      <td>...</td>\n",
              "      <td>...</td>\n",
              "      <td>...</td>\n",
              "      <td>...</td>\n",
              "    </tr>\n",
              "    <tr>\n",
              "      <th>229456</th>\n",
              "      <td>344080</td>\n",
              "      <td>1</td>\n",
              "      <td>1</td>\n",
              "      <td>1</td>\n",
              "      <td>0</td>\n",
              "      <td>1</td>\n",
              "      <td>1</td>\n",
              "      <td>63</td>\n",
              "      <td>0</td>\n",
              "      <td>1</td>\n",
              "    </tr>\n",
              "    <tr>\n",
              "      <th>229457</th>\n",
              "      <td>344081</td>\n",
              "      <td>1</td>\n",
              "      <td>1</td>\n",
              "      <td>1</td>\n",
              "      <td>1</td>\n",
              "      <td>0</td>\n",
              "      <td>1</td>\n",
              "      <td>51</td>\n",
              "      <td>0</td>\n",
              "      <td>0</td>\n",
              "    </tr>\n",
              "    <tr>\n",
              "      <th>229458</th>\n",
              "      <td>344082</td>\n",
              "      <td>0</td>\n",
              "      <td>1</td>\n",
              "      <td>0</td>\n",
              "      <td>0</td>\n",
              "      <td>0</td>\n",
              "      <td>0</td>\n",
              "      <td>48</td>\n",
              "      <td>0</td>\n",
              "      <td>0</td>\n",
              "    </tr>\n",
              "    <tr>\n",
              "      <th>229459</th>\n",
              "      <td>344083</td>\n",
              "      <td>1</td>\n",
              "      <td>1</td>\n",
              "      <td>1</td>\n",
              "      <td>1</td>\n",
              "      <td>1</td>\n",
              "      <td>1</td>\n",
              "      <td>69</td>\n",
              "      <td>0</td>\n",
              "      <td>1</td>\n",
              "    </tr>\n",
              "    <tr>\n",
              "      <th>229460</th>\n",
              "      <td>344084</td>\n",
              "      <td>0</td>\n",
              "      <td>1</td>\n",
              "      <td>1</td>\n",
              "      <td>0</td>\n",
              "      <td>0</td>\n",
              "      <td>1</td>\n",
              "      <td>57</td>\n",
              "      <td>0</td>\n",
              "      <td>1</td>\n",
              "    </tr>\n",
              "  </tbody>\n",
              "</table>\n",
              "<p>229461 rows × 10 columns</p>\n",
              "</div>"
            ],
            "text/plain": [
              "            ID  sex  g2000  g2002  p2000  p2002  p2004  age  treatment  voted\n",
              "0            1    1      1      1      0      1      0   65          1      0\n",
              "1            2    0      1      1      0      1      0   59          1      0\n",
              "2            6    1      0      0      0      0      0   25          0      0\n",
              "3            7    0      1      1      0      1      0   47          0      1\n",
              "4            8    1      1      1      0      1      0   50          0      1\n",
              "...        ...  ...    ...    ...    ...    ...    ...  ...        ...    ...\n",
              "229456  344080    1      1      1      0      1      1   63          0      1\n",
              "229457  344081    1      1      1      1      0      1   51          0      0\n",
              "229458  344082    0      1      0      0      0      0   48          0      0\n",
              "229459  344083    1      1      1      1      1      1   69          0      1\n",
              "229460  344084    0      1      1      0      0      1   57          0      1\n",
              "\n",
              "[229461 rows x 10 columns]"
            ]
          },
          "metadata": {
            "tags": []
          },
          "execution_count": 8
        }
      ]
    },
    {
      "cell_type": "code",
      "metadata": {
        "id": "jiTO2HDrNn_f"
      },
      "source": [
        "filter = (df[\"g2002\"] == 1) & (df[\"p2002\"] == 1)"
      ],
      "execution_count": 69,
      "outputs": []
    },
    {
      "cell_type": "code",
      "metadata": {
        "id": "8DafCAmANtk4"
      },
      "source": [
        "train_1, test_1 = train_test_split(df[filter], test_size=0.2, random_state=7)"
      ],
      "execution_count": 70,
      "outputs": []
    },
    {
      "cell_type": "code",
      "metadata": {
        "id": "h696v_lxOEXq"
      },
      "source": [
        "train_2, test_2 = train_test_split(df[~filter], test_size=0.7, random_state=7)"
      ],
      "execution_count": 71,
      "outputs": []
    },
    {
      "cell_type": "code",
      "metadata": {
        "colab": {
          "base_uri": "https://localhost:8080/",
          "height": 37
        },
        "id": "FzEg9pW_OWFo",
        "outputId": "8bd4d126-0eb0-4753-cd3a-ae762ed05a3b"
      },
      "source": [
        "train_1.shape, train_2.shape, test_1.shape, test_2.shape"
      ],
      "execution_count": 72,
      "outputs": [
        {
          "output_type": "execute_result",
          "data": {
            "image/png": "[encoded data removed]",
            "text/latex": "$\\displaystyle \\left( \\left( 66364, \\  10\\right), \\  \\left( 43951, \\  10\\right), \\  \\left( 16592, \\  10\\right), \\  \\left( 102554, \\  10\\right)\\right)$",
            "text/plain": [
              "((66364, 10), (43951, 10), (16592, 10), (102554, 10))"
            ]
          },
          "metadata": {
            "tags": []
          },
          "execution_count": 72
        }
      ]
    },
    {
      "cell_type": "code",
      "metadata": {
        "id": "cP5sRlj3Ob5n"
      },
      "source": [
        "trainset = pd.concat([train_1, train_2])\n",
        "testset = pd.concat([test_1, test_2])"
      ],
      "execution_count": 73,
      "outputs": []
    },
    {
      "cell_type": "code",
      "metadata": {
        "colab": {
          "base_uri": "https://localhost:8080/",
          "height": 713
        },
        "id": "ns1PX-EKQj1N",
        "outputId": "fb58cf53-5756-4f38-c598-26c4bd477290"
      },
      "source": [
        "fig, ax = plt.subplots(1,2, figsize=(10,5))\n",
        "ax[0].hist(trainset[\"p2002\"])\n",
        "ax[0].set_title(\"Trainset\")\n",
        "ax[1].hist(testset[\"p2002\"])\n",
        "ax[1].set_title(\"Testset\")\n",
        "fig.suptitle(\"distribution for p2002\")\n",
        "fig, ax = plt.subplots(1,2, figsize=(10,5))\n",
        "ax[0].hist(trainset[\"g2002\"])\n",
        "ax[0].set_title(\"Trainset\")\n",
        "ax[1].hist(testset[\"g2002\"])\n",
        "ax[1].set_title(\"Testset\")\n",
        "fig.suptitle(\"distribution for g2002\")"
      ],
      "execution_count": 14,
      "outputs": [
        {
          "output_type": "execute_result",
          "data": {
            "text/plain": [
              "Text(0.5, 0.98, 'distribution for g2002')"
            ]
          },
          "metadata": {
            "tags": []
          },
          "execution_count": 14
        },
        {
          "output_type": "display_data",
          "data": {
            "image/png": "[encoded data removed]",
            "text/plain": [
              "<Figure size 720x360 with 2 Axes>"
            ]
          },
          "metadata": {
            "tags": [],
            "needs_background": "light"
          }
        },
        {
          "output_type": "display_data",
          "data": {
            "image/png": "[encoded data removed]",
            "text/plain": [
              "<Figure size 720x360 with 2 Axes>"
            ]
          },
          "metadata": {
            "tags": [],
            "needs_background": "light"
          }
        }
      ]
    },
    {
      "cell_type": "code",
      "metadata": {
        "colab": {
          "base_uri": "https://localhost:8080/",
          "height": 614
        },
        "id": "Bnk4k7Ko3Nhk",
        "outputId": "918c19b4-d877-4d1d-ee6e-982fb6aada76"
      },
      "source": [
        "fig, ax = plt.subplots(figsize=(10,10)) \n",
        "sns.heatmap(trainset.corr())"
      ],
      "execution_count": 74,
      "outputs": [
        {
          "output_type": "execute_result",
          "data": {
            "text/plain": [
              "<matplotlib.axes._subplots.AxesSubplot at 0x7f11c4251490>"
            ]
          },
          "metadata": {
            "tags": []
          },
          "execution_count": 74
        },
        {
          "output_type": "display_data",
          "data": {
            "image/png": "[encoded data removed]",
            "text/plain": [
              "<Figure size 720x720 with 2 Axes>"
            ]
          },
          "metadata": {
            "tags": [],
            "needs_background": "light"
          }
        }
      ]
    },
    {
      "cell_type": "code",
      "metadata": {
        "colab": {
          "base_uri": "https://localhost:8080/",
          "height": 614
        },
        "id": "8A1RR3yIPGk1",
        "outputId": "2150e7a9-0a3f-4b62-90a6-e83d8f5d5276"
      },
      "source": [
        "fig, ax = plt.subplots(figsize=(10,10)) \n",
        "sns.heatmap(testset.corr())"
      ],
      "execution_count": 16,
      "outputs": [
        {
          "output_type": "execute_result",
          "data": {
            "text/plain": [
              "<matplotlib.axes._subplots.AxesSubplot at 0x7f11ca37dbd0>"
            ]
          },
          "metadata": {
            "tags": []
          },
          "execution_count": 16
        },
        {
          "output_type": "display_data",
          "data": {
            "image/png": "[encoded data removed]",
            "text/plain": [
              "<Figure size 720x720 with 2 Axes>"
            ]
          },
          "metadata": {
            "tags": [],
            "needs_background": "light"
          }
        }
      ]
    },
    {
      "cell_type": "code",
      "metadata": {
        "colab": {
          "base_uri": "https://localhost:8080/",
          "height": 37
        },
        "id": "JXzhyE_GR_Ox",
        "outputId": "92f3bf58-a97b-4036-d1aa-f3942b28dbde"
      },
      "source": [
        "rf_t_learner = TLearner(models=RandomForestRegressor())\n",
        "rf_t_learner.fit(Y=df.iloc[:,-1], T=df.iloc[:,-2], X=df.iloc[:,1:-2])\n",
        "\n",
        "ground_truth = rf_t_learner.effect(testset.iloc[:,1:-2])\n",
        "\n",
        "rf_x_learner = XLearner(models=RandomForestRegressor(),\n",
        "              propensity_model=RandomForestClassifier(),\n",
        "              cate_models=RandomForestRegressor())\n",
        "rf_x_learner.fit(Y=trainset.iloc[:,-1], T=trainset.iloc[:,-2], X=trainset.iloc[:,1:-2])\n",
        "treatment_effects = rf_x_learner.effect(testset.iloc[:,1:-2])\n",
        "\n",
        "rf_bias = np.mean(np.abs(treatment_effects - ground_truth))\n",
        "rf_var = np.var(treatment_effects)\n",
        "rf_rmse = np.sqrt(np.mean((treatment_effects - ground_truth)**2))\n",
        "\n",
        "rf_bias, rf_var, rf_rmse"
      ],
      "execution_count": 18,
      "outputs": [
        {
          "output_type": "execute_result",
          "data": {
            "image/png": "[encoded data removed]",
            "text/latex": "$\\displaystyle \\left( 0.104478194796232, \\  0.0294807387009191, \\  0.158380256609142\\right)$",
            "text/plain": [
              "(0.10447819479623233, 0.02948073870091907, 0.1583802566091424)"
            ]
          },
          "metadata": {
            "tags": []
          },
          "execution_count": 18
        }
      ]
    },
    {
      "cell_type": "code",
      "metadata": {
        "colab": {
          "base_uri": "https://localhost:8080/",
          "height": 37
        },
        "id": "rmgjubO-SVXT",
        "outputId": "3a618c0d-b5cf-4739-b3f0-1080ace80730"
      },
      "source": [
        "gb_t_learner = TLearner(models=GradientBoostingRegressor())\n",
        "gb_t_learner.fit(Y=df.iloc[:,-1], T=df.iloc[:,-2], X=df.iloc[:,1:-2])\n",
        "\n",
        "ground_truth = gb_t_learner.effect(testset.iloc[:,1:-2])\n",
        "\n",
        "gb_x_learner = XLearner(models=GradientBoostingRegressor(),\n",
        "              propensity_model=GradientBoostingClassifier(),\n",
        "              cate_models=GradientBoostingRegressor())\n",
        "gb_x_learner.fit(Y=trainset.iloc[:,-1], T=trainset.iloc[:,-2], X=trainset.iloc[:,1:-2])\n",
        "treatment_effects = gb_x_learner.effect(testset.iloc[:,1:-2])\n",
        "\n",
        "gb_bias = np.mean(np.abs(treatment_effects - ground_truth))\n",
        "gb_var = np.var(treatment_effects)\n",
        "gb_rmse = np.sqrt(np.mean((treatment_effects - ground_truth)**2))\n",
        "\n",
        "gb_bias, gb_var, gb_rmse"
      ],
      "execution_count": 22,
      "outputs": [
        {
          "output_type": "execute_result",
          "data": {
            "image/png": "[encoded data removed]",
            "text/latex": "$\\displaystyle \\left( 0.0174443780996833, \\  0.000662675613153506, \\  0.024955556101798\\right)$",
            "text/plain": [
              "(0.017444378099683296, 0.0006626756131535056, 0.024955556101798025)"
            ]
          },
          "metadata": {
            "tags": []
          },
          "execution_count": 22
        }
      ]
    },
    {
      "cell_type": "code",
      "metadata": {
        "colab": {
          "base_uri": "https://localhost:8080/",
          "height": 37
        },
        "id": "-_TMUIbISVZF",
        "outputId": "ab106642-0db6-47a0-e56f-866d27d75a99"
      },
      "source": [
        "lr_t_learner = TLearner(models=LogisticRegression())\n",
        "lr_t_learner.fit(Y=df.iloc[:,-1], T=df.iloc[:,-2], X=df.iloc[:,1:-2])\n",
        "\n",
        "ground_truth = lr_t_learner.effect(testset.iloc[:,1:-2])\n",
        "\n",
        "lr_x_learner = XLearner(models=LogisticRegression(max_iter=100000),\n",
        "            propensity_model=LogisticRegression(max_iter=100000),\n",
        "            cate_models=LogisticRegression(max_iter=100000))\n",
        "lr_x_learner.fit(Y=trainset.iloc[:,-1], T=trainset.iloc[:,-2], X=trainset.iloc[:,1:-2])\n",
        "treatment_effects = lr_x_learner.effect(testset.iloc[:,1:-2])\n",
        "\n",
        "lr_bias = np.mean(np.abs(treatment_effects - ground_truth))\n",
        "lr_var = np.var(treatment_effects)\n",
        "lr_rmse = np.sqrt(np.mean((treatment_effects - ground_truth)**2))\n",
        "\n",
        "lr_bias, lr_var, lr_rmse"
      ],
      "execution_count": 21,
      "outputs": [
        {
          "output_type": "execute_result",
          "data": {
            "image/png": "[encoded data removed]",
            "text/latex": "$\\displaystyle \\left( 0.0156894727357866, \\  0.0030078726914005, \\  0.118148952250536\\right)$",
            "text/plain": [
              "(0.015689472735786605, 0.003007872691400502, 0.11814895225053577)"
            ]
          },
          "metadata": {
            "tags": []
          },
          "execution_count": 21
        }
      ]
    },
    {
      "cell_type": "markdown",
      "metadata": {
        "id": "ttmsf3obUDT0"
      },
      "source": [
        "# Extreme human selected dataset"
      ]
    },
    {
      "cell_type": "code",
      "metadata": {
        "id": "be9x43-mTTW_"
      },
      "source": [
        "filter1 = (df[\"g2000\"] == 1) & (df[\"p2000\"] == 1) & (df[\"g2002\"] == 1) & (df[\"p2002\"] == 1)\n",
        "filter2 = (df[\"g2000\"] == 0) & (df[\"p2000\"] == 0) & (df[\"g2002\"] == 0) & (df[\"p2002\"] == 0)\n",
        "filter3 = ~(filter1 | filter2)\n",
        "filter3_young = df[filter3][\"age\"] < 50\n",
        "filter3_elder = df[filter3][\"age\"] >= 50"
      ],
      "execution_count": 75,
      "outputs": []
    },
    {
      "cell_type": "code",
      "metadata": {
        "id": "rnvEOLT3Uav3"
      },
      "source": [
        "train_1, test_1 = train_test_split(df[filter1], test_size=0.01, random_state=77)\n",
        "train_2, test_2 = train_test_split(df[filter2], test_size=0.99, random_state=77)\n",
        "train_3, test_3 = train_test_split(df[filter3][filter3_young], test_size=0.20, random_state=77)\n",
        "train_4, test_4 = train_test_split(df[filter3][filter3_elder], test_size=0.80, random_state=77)"
      ],
      "execution_count": 76,
      "outputs": []
    },
    {
      "cell_type": "code",
      "metadata": {
        "colab": {
          "base_uri": "https://localhost:8080/",
          "height": 37
        },
        "id": "FYSekZ3FUbrY",
        "outputId": "42ad9398-92d0-4671-b464-92ea96e4f7bf"
      },
      "source": [
        "trainset = pd.concat([train_1, train_2, train_3, train_4])\n",
        "testset = pd.concat([test_1, test_2, test_3, test_4])\n",
        "trainset.shape, testset.shape"
      ],
      "execution_count": 77,
      "outputs": [
        {
          "output_type": "execute_result",
          "data": {
            "image/png": "[encoded data removed]",
            "text/latex": "$\\displaystyle \\left( \\left( 113720, \\  10\\right), \\  \\left( 115741, \\  10\\right)\\right)$",
            "text/plain": [
              "((113720, 10), (115741, 10))"
            ]
          },
          "metadata": {
            "tags": []
          },
          "execution_count": 77
        }
      ]
    },
    {
      "cell_type": "code",
      "metadata": {
        "colab": {
          "base_uri": "https://localhost:8080/",
          "height": 607
        },
        "id": "At1QqFdQW0RZ",
        "outputId": "11398c29-ecd1-488e-c881-75bff5440224"
      },
      "source": [
        "fig, ax = plt.subplots(3,4, figsize=(15,10))\n",
        "ax[0][0].hist(trainset[\"p2000\"])\n",
        "ax[0][0].set_title(\"Trainset (p2000)\")\n",
        "ax[0][0].yaxis.set_major_formatter(ticker.PercentFormatter(xmax=len(trainset)))\n",
        "ax[0][1].hist(testset[\"p2000\"])\n",
        "ax[0][1].set_title(\"Testset (p2000)\")\n",
        "ax[0][1].yaxis.set_major_formatter(ticker.PercentFormatter(xmax=len(testset)))\n",
        "\n",
        "ax[0][2].hist(trainset[\"g2000\"])\n",
        "ax[0][2].set_title(\"Trainset (g2000)\")\n",
        "ax[0][2].yaxis.set_major_formatter(ticker.PercentFormatter(xmax=len(trainset)))\n",
        "ax[0][3].hist(testset[\"g2000\"])\n",
        "ax[0][3].set_title(\"Testset (g2000)\")\n",
        "ax[0][3].yaxis.set_major_formatter(ticker.PercentFormatter(xmax=len(testset)))\n",
        "\n",
        "ax[1][0].hist(trainset[\"p2002\"])\n",
        "ax[1][0].set_title(\"Trainset (p2002)\")\n",
        "ax[1][0].yaxis.set_major_formatter(ticker.PercentFormatter(xmax=len(trainset)))\n",
        "ax[1][1].hist(testset[\"p2002\"])\n",
        "ax[1][1].set_title(\"Testset (p2002)\")\n",
        "ax[1][1].yaxis.set_major_formatter(ticker.PercentFormatter(xmax=len(testset)))\n",
        "\n",
        "ax[1][2].hist(trainset[\"g2002\"])\n",
        "ax[1][2].set_title(\"Trainset (g2002)\")\n",
        "ax[1][2].yaxis.set_major_formatter(ticker.PercentFormatter(xmax=len(trainset)))\n",
        "ax[1][3].hist(testset[\"g2002\"])\n",
        "ax[1][3].set_title(\"Testset (g2002)\")\n",
        "ax[1][3].yaxis.set_major_formatter(ticker.PercentFormatter(xmax=len(testset)))\n",
        "\n",
        "ax[2][0].hist(trainset[\"p2004\"])\n",
        "ax[2][0].set_title(\"Trainset (p2004)\")\n",
        "ax[2][0].yaxis.set_major_formatter(ticker.PercentFormatter(xmax=len(trainset)))\n",
        "ax[2][1].hist(testset[\"p2004\"])\n",
        "ax[2][1].set_title(\"Testset (p2004)\")\n",
        "ax[2][1].yaxis.set_major_formatter(ticker.PercentFormatter(xmax=len(testset)))\n",
        "\n",
        "ax[2][2].hist(trainset[\"age\"])\n",
        "ax[2][2].set_title(\"Trainset (age)\")\n",
        "ax[2][2].yaxis.set_major_formatter(ticker.PercentFormatter(xmax=len(trainset)))\n",
        "ax[2][3].hist(testset[\"age\"])\n",
        "ax[2][3].set_title(\"Testset (age)\")\n",
        "ax[2][3].yaxis.set_major_formatter(ticker.PercentFormatter(xmax=len(testset)))"
      ],
      "execution_count": 64,
      "outputs": [
        {
          "output_type": "display_data",
          "data": {
            "image/png": "[encoded data removed]",
            "text/plain": [
              "<Figure size 1080x720 with 12 Axes>"
            ]
          },
          "metadata": {
            "tags": [],
            "needs_background": "light"
          }
        }
      ]
    },
    {
      "cell_type": "code",
      "metadata": {
        "colab": {
          "base_uri": "https://localhost:8080/",
          "height": 614
        },
        "id": "0piDgd1XWtDt",
        "outputId": "432e1e4c-75a2-4996-f16a-a393a85fa1ab"
      },
      "source": [
        "fig, ax = plt.subplots(figsize=(10,10)) \n",
        "sns.heatmap(trainset.corr())"
      ],
      "execution_count": 78,
      "outputs": [
        {
          "output_type": "execute_result",
          "data": {
            "text/plain": [
              "<matplotlib.axes._subplots.AxesSubplot at 0x7f11c4162710>"
            ]
          },
          "metadata": {
            "tags": []
          },
          "execution_count": 78
        },
        {
          "output_type": "display_data",
          "data": {
            "image/png": "[encoded data removed]",
            "text/plain": [
              "<Figure size 720x720 with 2 Axes>"
            ]
          },
          "metadata": {
            "tags": [],
            "needs_background": "light"
          }
        }
      ]
    },
    {
      "cell_type": "code",
      "metadata": {
        "colab": {
          "base_uri": "https://localhost:8080/",
          "height": 614
        },
        "id": "ZQhyzB2-Xbs_",
        "outputId": "9ce9edb9-dbc2-4c32-8fb0-9b1a57da8d35"
      },
      "source": [
        "fig, ax = plt.subplots(figsize=(10,10)) \n",
        "sns.heatmap(testset.corr())"
      ],
      "execution_count": 79,
      "outputs": [
        {
          "output_type": "execute_result",
          "data": {
            "text/plain": [
              "<matplotlib.axes._subplots.AxesSubplot at 0x7f11c41a6550>"
            ]
          },
          "metadata": {
            "tags": []
          },
          "execution_count": 79
        },
        {
          "output_type": "display_data",
          "data": {
            "image/png": "[encoded data removed]",
            "text/plain": [
              "<Figure size 720x720 with 2 Axes>"
            ]
          },
          "metadata": {
            "tags": [],
            "needs_background": "light"
          }
        }
      ]
    },
    {
      "cell_type": "code",
      "metadata": {
        "colab": {
          "base_uri": "https://localhost:8080/",
          "height": 37
        },
        "id": "4KR9UE10XdXV",
        "outputId": "d860197d-6638-424e-f66f-c086feb19c44"
      },
      "source": [
        "rf_t_learner = TLearner(models=RandomForestRegressor())\n",
        "rf_t_learner.fit(Y=df.iloc[:,-1], T=df.iloc[:,-2], X=df.iloc[:,1:-2])\n",
        "\n",
        "ground_truth = rf_t_learner.effect(testset.iloc[:,1:-2])\n",
        "\n",
        "rf_x_learner = XLearner(models=RandomForestRegressor(),\n",
        "              propensity_model=RandomForestClassifier(),\n",
        "              cate_models=RandomForestRegressor())\n",
        "rf_x_learner.fit(Y=trainset.iloc[:,-1], T=trainset.iloc[:,-2], X=trainset.iloc[:,1:-2])\n",
        "treatment_effects = rf_x_learner.effect(testset.iloc[:,1:-2])\n",
        "\n",
        "rf_bias = np.mean(np.abs(treatment_effects - ground_truth))\n",
        "rf_var = np.var(treatment_effects)\n",
        "rf_rmse = np.sqrt(np.mean((treatment_effects - ground_truth)**2))\n",
        "\n",
        "rf_bias, rf_var, rf_rmse"
      ],
      "execution_count": 65,
      "outputs": [
        {
          "output_type": "execute_result",
          "data": {
            "image/png": "[encoded data removed]",
            "text/latex": "$\\displaystyle \\left( 0.13784062368782, \\  0.0391799658859739, \\  0.195339542153869\\right)$",
            "text/plain": [
              "(0.13784062368781988, 0.03917996588597394, 0.19533954215386856)"
            ]
          },
          "metadata": {
            "tags": []
          },
          "execution_count": 65
        }
      ]
    },
    {
      "cell_type": "code",
      "metadata": {
        "colab": {
          "base_uri": "https://localhost:8080/",
          "height": 37
        },
        "id": "f0HUc8DqZxZa",
        "outputId": "a39b5f85-075d-4f16-b065-0e2fd9411b17"
      },
      "source": [
        "gb_t_learner = TLearner(models=GradientBoostingRegressor())\n",
        "gb_t_learner.fit(Y=df.iloc[:,-1], T=df.iloc[:,-2], X=df.iloc[:,1:-2])\n",
        "\n",
        "ground_truth = gb_t_learner.effect(testset.iloc[:,1:-2])\n",
        "\n",
        "gb_x_learner = XLearner(models=GradientBoostingRegressor(),\n",
        "              propensity_model=GradientBoostingClassifier(),\n",
        "              cate_models=GradientBoostingRegressor())\n",
        "gb_x_learner.fit(Y=trainset.iloc[:,-1], T=trainset.iloc[:,-2], X=trainset.iloc[:,1:-2])\n",
        "treatment_effects = gb_x_learner.effect(testset.iloc[:,1:-2])\n",
        "\n",
        "gb_bias = np.mean(np.abs(treatment_effects - ground_truth))\n",
        "gb_var = np.var(treatment_effects)\n",
        "gb_rmse = np.sqrt(np.mean((treatment_effects - ground_truth)**2))\n",
        "\n",
        "gb_bias, gb_var, gb_rmse"
      ],
      "execution_count": 66,
      "outputs": [
        {
          "output_type": "execute_result",
          "data": {
            "image/png": "[encoded data removed]",
            "text/latex": "$\\displaystyle \\left( 0.0267682423053588, \\  0.00238960612820835, \\  0.0474314324849196\\right)$",
            "text/plain": [
              "(0.026768242305358774, 0.002389606128208352, 0.04743143248491957)"
            ]
          },
          "metadata": {
            "tags": []
          },
          "execution_count": 66
        }
      ]
    },
    {
      "cell_type": "code",
      "metadata": {
        "colab": {
          "base_uri": "https://localhost:8080/",
          "height": 37
        },
        "id": "5ngRS7mJZzXG",
        "outputId": "7ca69b48-444e-40b2-c31e-51dcc38a6a16"
      },
      "source": [
        "lr_t_learner = TLearner(models=LogisticRegression())\n",
        "lr_t_learner.fit(Y=df.iloc[:,-1], T=df.iloc[:,-2], X=df.iloc[:,1:-2])\n",
        "\n",
        "ground_truth = lr_t_learner.effect(testset.iloc[:,1:-2])\n",
        "\n",
        "lr_x_learner = XLearner(models=LogisticRegression(max_iter=100000),\n",
        "            propensity_model=LogisticRegression(max_iter=100000),\n",
        "            cate_models=LogisticRegression(max_iter=100000))\n",
        "lr_x_learner.fit(Y=trainset.iloc[:,-1], T=trainset.iloc[:,-2], X=trainset.iloc[:,1:-2])\n",
        "treatment_effects = lr_x_learner.effect(testset.iloc[:,1:-2])\n",
        "\n",
        "lr_bias = np.mean(np.abs(treatment_effects - ground_truth))\n",
        "lr_var = np.var(treatment_effects)\n",
        "lr_rmse = np.sqrt(np.mean((treatment_effects - ground_truth)**2))\n",
        "\n",
        "lr_bias, lr_var, lr_rmse"
      ],
      "execution_count": 80,
      "outputs": [
        {
          "output_type": "execute_result",
          "data": {
            "image/png": "[encoded data removed]",
            "text/latex": "$\\displaystyle \\left( 0.0263702287080481, \\  0.000626671900357404, \\  0.161227661125965\\right)$",
            "text/plain": [
              "(0.026370228708048112, 0.0006266719003574038, 0.16122766112596534)"
            ]
          },
          "metadata": {
            "tags": []
          },
          "execution_count": 80
        }
      ]
    },
    {
      "cell_type": "code",
      "metadata": {
        "colab": {
          "base_uri": "https://localhost:8080/",
          "height": 37
        },
        "id": "RewHmz4uZ1X-",
        "outputId": "7debb5de-2477-435e-e332-5b0c841d50d0"
      },
      "source": [
        "np.mean(np.abs(treatment_effects - ground_truth))"
      ],
      "execution_count": 81,
      "outputs": [
        {
          "output_type": "execute_result",
          "data": {
            "image/png": "[encoded data removed]",
            "text/latex": "$\\displaystyle 0.0263702287080481$",
            "text/plain": [
              "0.026370228708048112"
            ]
          },
          "metadata": {
            "tags": []
          },
          "execution_count": 81
        }
      ]
    },
    {
      "cell_type": "code",
      "metadata": {
        "colab": {
          "base_uri": "https://localhost:8080/",
          "height": 37
        },
        "id": "_J9gN_HC7NMj",
        "outputId": "b43b16b0-9efa-42f5-c169-7d6abc31cda5"
      },
      "source": [
        "np.mean((treatment_effects - ground_truth)**2)"
      ],
      "execution_count": 82,
      "outputs": [
        {
          "output_type": "execute_result",
          "data": {
            "image/png": "[encoded data removed]",
            "text/latex": "$\\displaystyle 0.0259943587121491$",
            "text/plain": [
              "0.02599435871214912"
            ]
          },
          "metadata": {
            "tags": []
          },
          "execution_count": 82
        }
      ]
    },
    {
      "cell_type": "code",
      "metadata": {
        "colab": {
          "base_uri": "https://localhost:8080/",
          "height": 37
        },
        "id": "2wApkwl_7QEs",
        "outputId": "dce10f23-0071-4d33-b4e4-b5d6c1498384"
      },
      "source": [
        "np.sqrt(0.0259943587121491)"
      ],
      "execution_count": 83,
      "outputs": [
        {
          "output_type": "execute_result",
          "data": {
            "image/png": "[encoded data removed]",
            "text/latex": "$\\displaystyle 0.161227661125965$",
            "text/plain": [
              "0.1612276611259653"
            ]
          },
          "metadata": {
            "tags": []
          },
          "execution_count": 83
        }
      ]
    },
    {
      "cell_type": "code",
      "metadata": {
        "id": "NHke-Yka7UKV"
      },
      "source": [
        ""
      ],
      "execution_count": null,
      "outputs": []
    }
  ]
}
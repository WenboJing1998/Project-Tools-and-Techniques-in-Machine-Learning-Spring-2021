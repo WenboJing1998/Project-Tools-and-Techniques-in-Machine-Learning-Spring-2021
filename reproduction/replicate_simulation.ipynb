{
 "cells": [
  {
   "cell_type": "markdown",
   "metadata": {},
   "source": [
    "This jupyter notebook hosts the code for simulated data experiments, SI-1 and SI-2.\n",
    "We used Google Colab for development."
   ]
  },
  {
   "cell_type": "code",
   "execution_count": null,
   "metadata": {
    "colab": {
     "base_uri": "https://localhost:8080/"
    },
    "id": "i1Mc-mEX1lyi",
    "outputId": "65b35d2b-dc3a-4133-e1d0-2a082bd54332"
   },
   "outputs": [],
   "source": [
    "# !pip install bartpy\n",
    "!pip install git+https://github.com/JakeColtman/bartpy.git\n",
    "!pip install econml"
   ]
  },
  {
   "cell_type": "code",
   "execution_count": null,
   "metadata": {
    "colab": {
     "base_uri": "https://localhost:8080/"
    },
    "id": "eGtYr3El9r2f",
    "outputId": "3157ad60-cbfa-4cb6-dd34-382a9ef7de51"
   },
   "outputs": [
    {
     "name": "stdout",
     "output_type": "stream",
     "text": [
      "Mounted at /content/drive\n"
     ]
    }
   ],
   "source": [
    "# mount the drive\n",
    "from google.colab import drive\n",
    "drive.mount('/content/drive')\n",
    "# cd /content/drive/My Drive/TTML Final Project"
   ]
  },
  {
   "cell_type": "code",
   "execution_count": null,
   "metadata": {
    "id": "8Rn0qZ_h98xF"
   },
   "outputs": [],
   "source": [
    "import os \n",
    "os.chdir(\"/content/drive/My Drive/TTML Final Project\")\n",
    "from bartpy.sklearnmodel import SklearnModel as BART"
   ]
  },
  {
   "cell_type": "code",
   "execution_count": null,
   "metadata": {
    "id": "WWd4xp7h1nqW"
   },
   "outputs": [],
   "source": [
    "def simulate_correlation_matrix(dim, eta):\n",
    "    '''\n",
    "    Simulated correlation matrix using vines method.\n",
    "    Implementation adapted from \n",
    "    https://stats.stackexchange.com/questions/2746/how-to-efficiently-generate-random-positive-semidefinite-correlation-matrices.\n",
    "    Issues:\n",
    "    Not positive semidefinite?\n",
    "    '''\n",
    "    beta = eta + (dim-1)/2\n",
    "    P = np.zeros((dim,dim))           #storing partial correlations\n",
    "    S = np.eye(dim)\n",
    "    \n",
    "    for k in range(1,dim-1):\n",
    "        beta = beta - 1/2;\n",
    "        for i in range(k+1,dim):\n",
    "            P[k,i] = np.random.beta(beta, beta) # sampling from beta\n",
    "            P[k,i] = (P[k,i]-0.5)*2     # linearly shifting to [-1, 1]\n",
    "            p = P[k,i]\n",
    "            for l in range(k-1,-1,1): # converting partial correlation to raw correlation\n",
    "                p = p * np.sqrt((1-P[l,i]^2)*(1-P[l,k]^2)) + P[l,i]*P[l,k]\n",
    "            S[k,i] = p\n",
    "            S[i,k] = p\n",
    "    return S"
   ]
  },
  {
   "cell_type": "code",
   "execution_count": null,
   "metadata": {
    "id": "US61Fv6b2fJ4"
   },
   "outputs": [],
   "source": [
    "class simulation:\n",
    "    '''\n",
    "    A general class that holds information of the simulation settings.\n",
    "    '''\n",
    "    def __init__(self, dim, size, e_x, sigma):\n",
    "      self.dim = dim\n",
    "      self.size = size\n",
    "      self.e_x = e_x\n",
    "      self.sigma = sigma\n",
    "      self.X = np.random.multivariate_normal(np.zeros(self.dim), \n",
    "                                             self.sigma, \n",
    "                                             self.size)\n",
    "      self.noise_1 = np.random.normal(size=self.size)\n",
    "      self.noise_0 = np.random.normal(size=self.size)\n",
    "      self.treatment = np.random.binomial(n=1, p=self.e_x, size = self.size)\n",
    "    \n",
    "    def add_treatment_effect(self,mu_0, mu_1):\n",
    "      self.Y_0 = mu_0 + self.noise_0\n",
    "      self.Y_1 = mu_1 + self.noise_1\n",
    "      self.ground_truth = mu_1 - mu_0 \n",
    "      self.Y_obs = np.where(self.treatment==1, self.Y_1, self.Y_0)"
   ]
  },
  {
   "cell_type": "code",
   "execution_count": null,
   "metadata": {
    "colab": {
     "base_uri": "https://localhost:8080/"
    },
    "id": "ACe8gMHB2jg6",
    "outputId": "8c313ec1-1dd1-4f64-c245-3cdeb4437bbf"
   },
   "outputs": [
    {
     "name": "stderr",
     "output_type": "stream",
     "text": [
      "/usr/local/lib/python3.7/dist-packages/statsmodels/tools/_testing.py:19: FutureWarning: pandas.util.testing is deprecated. Use the functions in the public API at pandas.testing instead.\n",
      "  import pandas.util.testing as tm\n"
     ]
    }
   ],
   "source": [
    "from econml.metalearners import TLearner, SLearner, XLearner, DomainAdaptationLearner\n",
    "from sklearn.ensemble import RandomForestRegressor, RandomForestClassifier, GradientBoostingRegressor\n",
    "import matplotlib.pyplot as plt\n",
    "import numpy as np\n",
    "from tqdm import tqdm\n",
    "import pandas as pd"
   ]
  },
  {
   "cell_type": "markdown",
   "metadata": {
    "heading_collapsed": true
   },
   "source": [
    "## SI-1: Simple CATE Function\n",
    "\n",
    "We used a different notebook to run the case with RF as base learners. For that case, just replace ```models = BART()``` with ```models = RandomForestRegressor()``` and update the sample sizes as you like.\n",
    "Note that *BART* is much slower and requires more RAM, so test sample greater than 5000 is not recommended."
   ]
  },
  {
   "cell_type": "code",
   "execution_count": null,
   "metadata": {
    "hidden": true,
    "id": "BF2TduHX2lWm"
   },
   "outputs": [],
   "source": [
    "cate_sl_list = []\n",
    "cate_xl_list = []\n",
    "cate_tl_list = []\n",
    "T_te_list = []\n",
    "X_te_list = []\n",
    "S_te_list = []\n",
    "# create ground truth\n",
    "sigma_fixed = simulate_correlation_matrix(20, 0)\n",
    "simulation_1_test = simulation(dim=20, size=500, e_x=0.01, sigma=sigma_fixed)\n",
    "b = np.random.uniform(low=-5, high=5, size=(simulation_1_test.dim,))\n",
    "mu_0 = np.matmul(simulation_1_test.X, b) + 5*(simulation_1_test.X[:,0]>0.5).astype(int)\n",
    "mu_1 = mu_0 + 8*(simulation_1_test.X[:,1]>0.1).astype(int)\n",
    "simulation_1_test.add_treatment_effect(mu_0, mu_1)\n",
    "\n",
    "# sample_sizes = np.array([10_000,11_000,12_000, 20_000, 30_000, 50_000])\n",
    "# ToDos: np.array([7_500])\n",
    "# sample_sizes = np.array([])\n",
    "for sample_size in tqdm(sample_sizes):\n",
    "    simulation_1 = simulation(dim=20, size=sample_size, e_x=0.01, sigma=sigma_fixed)\n",
    "    b = np.random.uniform(low=-5, high=5, size=(simulation_1.dim,))\n",
    "    mu_0 = np.matmul(simulation_1.X, b) + 5*(simulation_1.X[:,0]>0.5).astype(int)\n",
    "    mu_1 = mu_0 + 8*(simulation_1.X[:,1]>0.1).astype(int)\n",
    "\n",
    "    simulation_1.add_treatment_effect(mu_0, mu_1)\n",
    "    n=5_000\n",
    "    # Instantiate T learner\n",
    "    models = BART()\n",
    "    # models = \n",
    "    T_learner = TLearner(models=models)\n",
    "    # Train T_learner\n",
    "    T_learner.fit(X=simulation_1.X, T=simulation_1.treatment , Y=simulation_1.Y_obs)\n",
    "    # Estimate treatment effects on test data\n",
    "    T_te = T_learner.effect(simulation_1_test.X)\n",
    "    T_te_list.append(T_te)\n",
    "\n",
    "    # # Instantiate S learner\n",
    "    overall_model = BART()\n",
    "    S_learner = SLearner(overall_model=overall_model)\n",
    "    # Train S_learner\n",
    "    S_learner.fit(X=simulation_1.X, T=simulation_1.treatment , Y=simulation_1.Y_obs)\n",
    "    # Estimate treatment effects on test data\n",
    "    S_te = S_learner.effect(simulation_1_test.X)\n",
    "    S_te_list.append(S_te)\n",
    "\n",
    "    # # Instantiate X learner\n",
    "    models = BART()\n",
    "    propensity_model = RandomForestClassifier(n_estimators=100, max_depth=6, \n",
    "                                                      min_samples_leaf=int(n/100))\n",
    "    X_learner = XLearner(models=models, propensity_model=propensity_model)\n",
    "    # Train X_learner\n",
    "    X_learner.fit(Y=simulation_1.Y_obs, T=simulation_1.treatment, X=simulation_1.X)\n",
    "    # Estimate treatment effects on test data\n",
    "    X_te = X_learner.effect(simulation_1_test.X)\n",
    "    X_te_list.append(X_te)\n",
    "\n",
    "    s_mse_eml_bart = [np.mean((est - simulation_1_test.ground_truth)**2) for est in S_te_list]\n",
    "    x_mse_eml_bart = [np.mean((est - simulation_1_test.ground_truth)**2) for est in X_te_list]\n",
    "    t_mse_eml_bart = [np.mean((est - simulation_1_test.ground_truth)**2) for est in T_te_list]\n",
    "    \n",
    "    results_mse_bart = pd.DataFrame(data={\"s_mse_eml_bart\":s_mse_eml_bart, \n",
    "                                 \"t_mse_eml_bart\":t_mse_eml_bart, \n",
    "                                 \"x_mse_eml_bart\": x_mse_eml_bart})\n",
    "    \n",
    "    results_mse_bart.to_csv(f\"SL1_results_mse_bart_max_{sample_size}.csv\")"
   ]
  },
  {
   "cell_type": "code",
   "execution_count": null,
   "metadata": {
    "hidden": true,
    "id": "_bZ4xHXpDS8i"
   },
   "outputs": [],
   "source": [
    "results_mse_big = pd.DataFrame(data={\"s_mse_eml_bart\":s_mse_eml_bart, \n",
    "                              \"t_mse_eml_bart\":t_mse_eml_bart, \n",
    "                              \"x_mse_eml_bart\": x_mse_eml_bart})\n",
    "\n",
    "results_mse_big.to_csv(\"SL1_results_mse_bart.csv\")"
   ]
  },
  {
   "cell_type": "code",
   "execution_count": null,
   "metadata": {
    "hidden": true,
    "id": "IqxUlBFgM1gH"
   },
   "outputs": [],
   "source": [
    "dataframes = []\n",
    "for sample_size in [5000, 7500, 10000, 12000]:\n",
    "    df = pd.read_csv(f\"SL1_results_mse_bart_max_{sample_size}.csv\")\n",
    "    dataframes.append(df)\n",
    "dataframe = pd.concat(dataframes)\n",
    "dataframe['sample_size'] = [5000, 7500, 10000, 12000]"
   ]
  },
  {
   "cell_type": "code",
   "execution_count": null,
   "metadata": {
    "colab": {
     "base_uri": "https://localhost:8080/",
     "height": 173
    },
    "hidden": true,
    "id": "FFGfuzKENda0",
    "outputId": "ca663665-fa70-493d-92b0-a39045ec135a"
   },
   "outputs": [
    {
     "data": {
      "text/html": [
       "<div>\n",
       "<style scoped>\n",
       "    .dataframe tbody tr th:only-of-type {\n",
       "        vertical-align: middle;\n",
       "    }\n",
       "\n",
       "    .dataframe tbody tr th {\n",
       "        vertical-align: top;\n",
       "    }\n",
       "\n",
       "    .dataframe thead th {\n",
       "        text-align: right;\n",
       "    }\n",
       "</style>\n",
       "<table border=\"1\" class=\"dataframe\">\n",
       "  <thead>\n",
       "    <tr style=\"text-align: right;\">\n",
       "      <th></th>\n",
       "      <th>Unnamed: 0</th>\n",
       "      <th>s_mse_eml_bart</th>\n",
       "      <th>t_mse_eml_bart</th>\n",
       "      <th>x_mse_eml_bart</th>\n",
       "      <th>sample_size</th>\n",
       "    </tr>\n",
       "  </thead>\n",
       "  <tbody>\n",
       "    <tr>\n",
       "      <th>0</th>\n",
       "      <td>0</td>\n",
       "      <td>16.378251</td>\n",
       "      <td>36.748236</td>\n",
       "      <td>6.210574</td>\n",
       "      <td>5000</td>\n",
       "    </tr>\n",
       "    <tr>\n",
       "      <th>0</th>\n",
       "      <td>0</td>\n",
       "      <td>15.918702</td>\n",
       "      <td>24.692100</td>\n",
       "      <td>6.045884</td>\n",
       "      <td>7500</td>\n",
       "    </tr>\n",
       "    <tr>\n",
       "      <th>0</th>\n",
       "      <td>0</td>\n",
       "      <td>10.460053</td>\n",
       "      <td>17.025348</td>\n",
       "      <td>5.938253</td>\n",
       "      <td>10000</td>\n",
       "    </tr>\n",
       "    <tr>\n",
       "      <th>0</th>\n",
       "      <td>0</td>\n",
       "      <td>16.320588</td>\n",
       "      <td>38.106300</td>\n",
       "      <td>4.680106</td>\n",
       "      <td>12000</td>\n",
       "    </tr>\n",
       "  </tbody>\n",
       "</table>\n",
       "</div>"
      ],
      "text/plain": [
       "   Unnamed: 0  s_mse_eml_bart  t_mse_eml_bart  x_mse_eml_bart  sample_size\n",
       "0           0       16.378251       36.748236        6.210574         5000\n",
       "0           0       15.918702       24.692100        6.045884         7500\n",
       "0           0       10.460053       17.025348        5.938253        10000\n",
       "0           0       16.320588       38.106300        4.680106        12000"
      ]
     },
     "execution_count": 13,
     "metadata": {
      "tags": []
     },
     "output_type": "execute_result"
    }
   ],
   "source": [
    "dataframe"
   ]
  },
  {
   "cell_type": "code",
   "execution_count": null,
   "metadata": {
    "colab": {
     "base_uri": "https://localhost:8080/",
     "height": 281
    },
    "hidden": true,
    "id": "phwDLRuC2soi",
    "outputId": "714db395-6eab-44ac-d0fe-9ff10e6b60a3"
   },
   "outputs": [
    {
     "data": {
      "image/png": "[encoded data removed]",
      "text/plain": [
       "<Figure size 432x288 with 1 Axes>"
      ]
     },
     "metadata": {
      "needs_background": "light",
      "tags": []
     },
     "output_type": "display_data"
    }
   ],
   "source": [
    "fig1 = plt.gcf()\n",
    "plt.plot(dataframe['sample_size'], dataframe['s_mse_eml_bart'], \"green\", label=\"s_learner\", marker='.')\n",
    "plt.plot(dataframe['sample_size'] ,dataframe['t_mse_eml_bart'], \"grey\",  label=\"t_learner\", marker='^')\n",
    "plt.plot(dataframe['sample_size'], dataframe['x_mse_eml_bart'], \"blue\",  label=\"x_learner\", marker='|')\n",
    "plt.legend()\n",
    "plt.title(\"MSE\")\n",
    "plt.show()\n",
    "fig1.savefig(\"MSE_BART_SI1.png\")"
   ]
  },
  {
   "cell_type": "markdown",
   "metadata": {
    "id": "cCDLlEnF26aU"
   },
   "source": [
    "## SI-2: Complicated CATE Function"
   ]
  },
  {
   "cell_type": "code",
   "execution_count": null,
   "metadata": {
    "colab": {
     "base_uri": "https://localhost:8080/"
    },
    "id": "8CRNhxbQ3EmP",
    "outputId": "8f41ae51-1611-4dcb-8ef9-bc8a23b217be"
   },
   "outputs": [
    {
     "name": "stderr",
     "output_type": "stream",
     "text": [
      "covariance is not positive-semidefinite.\n",
      " 12%|█▎        | 1/8 [01:12<08:29, 72.85s/it]covariance is not positive-semidefinite.\n",
      " 25%|██▌       | 2/8 [02:32<07:29, 74.91s/it]covariance is not positive-semidefinite.\n",
      " 38%|███▊      | 3/8 [03:59<06:32, 78.58s/it]covariance is not positive-semidefinite.\n",
      " 50%|█████     | 4/8 [06:28<06:38, 99.71s/it]covariance is not positive-semidefinite.\n",
      " 62%|██████▎   | 5/8 [10:21<06:58, 139.62s/it]covariance is not positive-semidefinite.\n",
      " 75%|███████▌  | 6/8 [17:14<07:23, 221.63s/it]covariance is not positive-semidefinite.\n",
      " 88%|████████▊ | 7/8 [32:42<07:13, 433.66s/it]covariance is not positive-semidefinite.\n",
      "100%|██████████| 8/8 [51:49<00:00, 388.63s/it]\n"
     ]
    }
   ],
   "source": [
    "cate_sl_list = []\n",
    "cate_xl_list = []\n",
    "cate_tl_list = []\n",
    "T_te_list = []\n",
    "X_te_list = []\n",
    "S_te_list = []\n",
    "# create ground truth\n",
    "sigma_fixed = simulate_correlation_matrix(20, 0)\n",
    "simulation_2_test = simulation(dim=20, size=500, e_x=0.5, sigma=sigma_fixed)\n",
    "b1 = np.random.uniform(low=1, high=30, size=(simulation_2_test.dim,))\n",
    "b0 = np.random.uniform(low=1, high=30, size=(simulation_2_test.dim,))\n",
    "\n",
    "mu_0 = np.matmul(simulation_2_test.X, b0)\n",
    "mu_1 = np.matmul(simulation_2_test.X, b1)\n",
    "simulation_2_test.add_treatment_effect(mu_0, mu_1)\n",
    "\n",
    "sample_sizes = np.array([100_000, 120_000])\n",
    "\n",
    "for sample_size in tqdm(sample_sizes):\n",
    "    simulation_2 = simulation(dim=20, size=sample_size, e_x=0.5, sigma=sigma_fixed)\n",
    "    # b1 = np.random.uniform(low=1, high=30, size=(simulation_2.dim,))\n",
    "    # b0 = np.random.uniform(low=1, high=30, size=(simulation_2.dim,))\n",
    "\n",
    "    mu_0 = np.matmul(simulation_2.X, b0)\n",
    "    mu_1 = np.matmul(simulation_2.X, b1)\n",
    "\n",
    "    simulation_2.add_treatment_effect(mu_0, mu_1)\n",
    "    n=5_000\n",
    "    # Instantiate T learner\n",
    "    models = RandomForestRegressor()\n",
    "    # models = \n",
    "    T_learner = TLearner(models=models)\n",
    "    # Train T_learner\n",
    "    T_learner.fit(X=simulation_2.X, T=simulation_2.treatment , Y=simulation_2.Y_obs)\n",
    "    # Estimate treatment effects on test data\n",
    "    T_te = T_learner.effect(simulation_2_test.X)\n",
    "    T_te_list.append(T_te)\n",
    "\n",
    "    # # Instantiate S learner\n",
    "    overall_model = RandomForestRegressor()\n",
    "    S_learner = SLearner(overall_model=overall_model)\n",
    "    # Train S_learner\n",
    "    S_learner.fit(X=simulation_2.X, T=simulation_2.treatment , Y=simulation_2.Y_obs)\n",
    "    # Estimate treatment effects on test data\n",
    "    S_te = S_learner.effect(simulation_2_test.X)\n",
    "    S_te_list.append(S_te)\n",
    "\n",
    "    # # Instantiate X learner\n",
    "    models = RandomForestRegressor()\n",
    "    propensity_model = RandomForestClassifier(n_estimators=100, max_depth=6, \n",
    "                                                      min_samples_leaf=int(n/100))\n",
    "    X_learner = XLearner(models=models, propensity_model=propensity_model)\n",
    "    # Train X_learner\n",
    "    X_learner.fit(Y=simulation_2.Y_obs, T=simulation_2.treatment, X=simulation_2.X)\n",
    "    # Estimate treatment effects on test data\n",
    "    X_te = X_learner.effect(simulation_2_test.X)\n",
    "    X_te_list.append(X_te)\n",
    "\n",
    "    s_mse_eml_rf = [np.mean((est - simulation_2_test.ground_truth)**2) for est in S_te_list]\n",
    "    x_mse_eml_rf = [np.mean((est - simulation_2_test.ground_truth)**2) for est in X_te_list]\n",
    "    t_mse_eml_rf = [np.mean((est - simulation_2_test.ground_truth)**2) for est in T_te_list]\n",
    "    \n",
    "    results_mse_bart = pd.DataFrame(data={\"s_mse_eml_rf\":s_mse_eml_rf, \n",
    "                                 \"t_mse_eml_rf\":t_mse_eml_rf, \n",
    "                                 \"x_mse_eml_rf\": x_mse_eml_rf})\n",
    "    \n",
    "    results_mse_bart.to_csv(f\"SL2_results_mse_rf_max_{sample_size}_ROUND_4.csv\")"
   ]
  },
  {
   "cell_type": "code",
   "execution_count": null,
   "metadata": {
    "id": "JLiRjkScUgRn"
   },
   "outputs": [],
   "source": [
    "sl2_rf_mse = pd.read_csv('SL2_results_mse_rf_max_120000_ROUND_4.csv')\n",
    "sl2_rf_mse['sample_size'] = sample_sizes"
   ]
  },
  {
   "cell_type": "code",
   "execution_count": null,
   "metadata": {
    "colab": {
     "base_uri": "https://localhost:8080/",
     "height": 281
    },
    "id": "h0mjiJ5jhaat",
    "outputId": "cf43a114-5b7f-412d-8524-28a56805b9a6"
   },
   "outputs": [
    {
     "data": {
      "image/png": "[encoded data removed]",
      "text/plain": [
       "<Figure size 432x288 with 1 Axes>"
      ]
     },
     "metadata": {
      "needs_background": "light",
      "tags": []
     },
     "output_type": "display_data"
    }
   ],
   "source": [
    "fig1 = plt.gcf()\n",
    "plt.plot(sl2_rf_mse['sample_size'], sl2_rf_mse['s_mse_eml_rf'], \"green\", label=\"s_learner\", marker='.')\n",
    "plt.plot(sl2_rf_mse['sample_size'] ,sl2_rf_mse['t_mse_eml_rf'], \"grey\",  label=\"t_learner\", marker='^')\n",
    "plt.plot(sl2_rf_mse['sample_size'], sl2_rf_mse['x_mse_eml_rf'], \"blue\",  label=\"x_learner\", marker='|')\n",
    "plt.legend()\n",
    "plt.title(\"MSE\")\n",
    "plt.show()\n",
    "# fig1.savefig(\"SI2_RF_MSE.png\")"
   ]
  },
  {
   "cell_type": "code",
   "execution_count": null,
   "metadata": {
    "colab": {
     "base_uri": "https://localhost:8080/"
    },
    "id": "ZgsdEsdRwJay",
    "outputId": "46c12f0d-554f-44b7-922b-00deb590c76c"
   },
   "outputs": [
    {
     "name": "stderr",
     "output_type": "stream",
     "text": [
      "covariance is not positive-semidefinite.\n",
      " 50%|█████     | 1/2 [13:18<13:18, 798.22s/it]covariance is not positive-semidefinite.\n",
      "100%|██████████| 2/2 [28:12<00:00, 846.28s/it]\n"
     ]
    }
   ],
   "source": [
    "cate_sl_list = []\n",
    "cate_xl_list = []\n",
    "cate_tl_list = []\n",
    "T_te_list = []\n",
    "X_te_list = []\n",
    "S_te_list = []\n",
    "# create ground truth\n",
    "sigma_fixed = simulate_correlation_matrix(20, 0)\n",
    "simulation_2_test = simulation(dim=20, size=500, e_x=0.5, sigma=sigma_fixed)\n",
    "b1 = np.random.uniform(low=1, high=30, size=(simulation_2_test.dim,))\n",
    "b0 = np.random.uniform(low=1, high=30, size=(simulation_2_test.dim,))\n",
    "\n",
    "mu_0 = np.matmul(simulation_2_test.X, b0)\n",
    "mu_1 = np.matmul(simulation_2_test.X, b1)\n",
    "simulation_2_test.add_treatment_effect(mu_0, mu_1)\n",
    "\n",
    "# sample_sizes = np.array([7000, 8000, 8500])\n",
    "sample_sizes = np.array([10_000, 12_000])\n",
    "for sample_size in tqdm(sample_sizes):\n",
    "    simulation_2 = simulation(dim=20, size=sample_size, e_x=0.5, sigma=sigma_fixed)\n",
    "    # b1 = np.random.uniform(low=1, high=30, size=(simulation_2.dim,))\n",
    "    # b0 = np.random.uniform(low=1, high=30, size=(simulation_2.dim,))\n",
    "\n",
    "    mu_0 = np.matmul(simulation_2.X, b0)\n",
    "    mu_1 = np.matmul(simulation_2.X, b1)\n",
    "\n",
    "    simulation_2.add_treatment_effect(mu_0, mu_1)\n",
    "    n=5_000\n",
    "    # Instantiate T learner\n",
    "    models = BART()\n",
    "    # models = \n",
    "    T_learner = TLearner(models=models)\n",
    "    # Train T_learner\n",
    "    T_learner.fit(X=simulation_2.X, T=simulation_2.treatment , Y=simulation_2.Y_obs)\n",
    "    # Estimate treatment effects on test data\n",
    "    T_te = T_learner.effect(simulation_2_test.X)\n",
    "    T_te_list.append(T_te)\n",
    "\n",
    "    # # Instantiate S learner\n",
    "    overall_model = BART()\n",
    "    S_learner = SLearner(overall_model=overall_model)\n",
    "    # Train S_learner\n",
    "    S_learner.fit(X=simulation_2.X, T=simulation_2.treatment , Y=simulation_2.Y_obs)\n",
    "    # Estimate treatment effects on test data\n",
    "    S_te = S_learner.effect(simulation_2_test.X)\n",
    "    S_te_list.append(S_te)\n",
    "\n",
    "    # # Instantiate X learner\n",
    "    models = BART()\n",
    "    propensity_model = RandomForestClassifier(n_estimators=100, max_depth=6, \n",
    "                                                      min_samples_leaf=int(n/100))\n",
    "    X_learner = XLearner(models=models, propensity_model=propensity_model)\n",
    "    # Train X_learner\n",
    "    X_learner.fit(Y=simulation_2.Y_obs, T=simulation_2.treatment, X=simulation_2.X)\n",
    "    # Estimate treatment effects on test data\n",
    "    X_te = X_learner.effect(simulation_2_test.X)\n",
    "    X_te_list.append(X_te)\n",
    "\n",
    "    s_mse_eml_bart = [np.mean((est - simulation_2_test.ground_truth)**2) for est in S_te_list]\n",
    "    x_mse_eml_bart = [np.mean((est - simulation_2_test.ground_truth)**2) for est in X_te_list]\n",
    "    t_mse_eml_bart = [np.mean((est - simulation_2_test.ground_truth)**2) for est in T_te_list]\n",
    "    \n",
    "    results_mse_bart = pd.DataFrame(data={\"s_mse_eml_bart\":s_mse_eml_bart, \n",
    "                                 \"t_mse_eml_bart\":t_mse_eml_bart, \n",
    "                                 \"x_mse_eml_bart\": x_mse_eml_bart})\n",
    "    \n",
    "    results_mse_bart.to_csv(f\"SL2_results_mse_bart_max_{sample_size}_ROUND_2.csv\")"
   ]
  },
  {
   "cell_type": "code",
   "execution_count": null,
   "metadata": {
    "id": "otejmKX9w3dN"
   },
   "outputs": [],
   "source": [
    "df_1 = pd.read_csv(f\"SL2_results_mse_bart_max_{8500}_ROUND_1.csv\")\n",
    "df_2 = pd.read_csv(f\"SL2_results_mse_bart_max_{sample_size}_ROUND_2.csv\")"
   ]
  },
  {
   "cell_type": "code",
   "execution_count": null,
   "metadata": {
    "colab": {
     "base_uri": "https://localhost:8080/",
     "height": 204
    },
    "id": "EMdkKDckzoHr",
    "outputId": "c1b2fce0-4ddf-413b-b1cc-adc111ba4b3b"
   },
   "outputs": [
    {
     "data": {
      "text/html": [
       "<div>\n",
       "<style scoped>\n",
       "    .dataframe tbody tr th:only-of-type {\n",
       "        vertical-align: middle;\n",
       "    }\n",
       "\n",
       "    .dataframe tbody tr th {\n",
       "        vertical-align: top;\n",
       "    }\n",
       "\n",
       "    .dataframe thead th {\n",
       "        text-align: right;\n",
       "    }\n",
       "</style>\n",
       "<table border=\"1\" class=\"dataframe\">\n",
       "  <thead>\n",
       "    <tr style=\"text-align: right;\">\n",
       "      <th></th>\n",
       "      <th>Unnamed: 0</th>\n",
       "      <th>Unnamed: 0.1</th>\n",
       "      <th>s_mse_eml_bart</th>\n",
       "      <th>t_mse_eml_bart</th>\n",
       "      <th>x_mse_eml_bart</th>\n",
       "      <th>sample_sizes</th>\n",
       "    </tr>\n",
       "  </thead>\n",
       "  <tbody>\n",
       "    <tr>\n",
       "      <th>0</th>\n",
       "      <td>0</td>\n",
       "      <td>0</td>\n",
       "      <td>1335.866008</td>\n",
       "      <td>269.392548</td>\n",
       "      <td>111.204931</td>\n",
       "      <td>5000</td>\n",
       "    </tr>\n",
       "    <tr>\n",
       "      <th>1</th>\n",
       "      <td>1</td>\n",
       "      <td>1</td>\n",
       "      <td>1264.001663</td>\n",
       "      <td>326.016557</td>\n",
       "      <td>111.525455</td>\n",
       "      <td>6000</td>\n",
       "    </tr>\n",
       "    <tr>\n",
       "      <th>2</th>\n",
       "      <td>2</td>\n",
       "      <td>2</td>\n",
       "      <td>973.768364</td>\n",
       "      <td>275.346093</td>\n",
       "      <td>90.346029</td>\n",
       "      <td>7000</td>\n",
       "    </tr>\n",
       "    <tr>\n",
       "      <th>3</th>\n",
       "      <td>0</td>\n",
       "      <td>0</td>\n",
       "      <td>1056.171401</td>\n",
       "      <td>251.142522</td>\n",
       "      <td>115.194133</td>\n",
       "      <td>8000</td>\n",
       "    </tr>\n",
       "    <tr>\n",
       "      <th>4</th>\n",
       "      <td>1</td>\n",
       "      <td>1</td>\n",
       "      <td>1061.127130</td>\n",
       "      <td>189.551937</td>\n",
       "      <td>107.050766</td>\n",
       "      <td>8500</td>\n",
       "    </tr>\n",
       "  </tbody>\n",
       "</table>\n",
       "</div>"
      ],
      "text/plain": [
       "   Unnamed: 0  Unnamed: 0.1  ...  x_mse_eml_bart  sample_sizes\n",
       "0           0             0  ...      111.204931          5000\n",
       "1           1             1  ...      111.525455          6000\n",
       "2           2             2  ...       90.346029          7000\n",
       "3           0             0  ...      115.194133          8000\n",
       "4           1             1  ...      107.050766          8500\n",
       "\n",
       "[5 rows x 6 columns]"
      ]
     },
     "execution_count": 9,
     "metadata": {
      "tags": []
     },
     "output_type": "execute_result"
    }
   ],
   "source": [
    "df_1"
   ]
  },
  {
   "cell_type": "code",
   "execution_count": null,
   "metadata": {
    "id": "r-KcPXuAzzHR"
   },
   "outputs": [],
   "source": [
    "df_2['sample_sizes'] = sample_sizes"
   ]
  },
  {
   "cell_type": "code",
   "execution_count": null,
   "metadata": {
    "colab": {
     "base_uri": "https://localhost:8080/",
     "height": 266
    },
    "id": "Ga-sZnMozooO",
    "outputId": "285463ff-cd4d-478f-93e8-75dd8eb78fc3"
   },
   "outputs": [
    {
     "data": {
      "text/html": [
       "<div>\n",
       "<style scoped>\n",
       "    .dataframe tbody tr th:only-of-type {\n",
       "        vertical-align: middle;\n",
       "    }\n",
       "\n",
       "    .dataframe tbody tr th {\n",
       "        vertical-align: top;\n",
       "    }\n",
       "\n",
       "    .dataframe thead th {\n",
       "        text-align: right;\n",
       "    }\n",
       "</style>\n",
       "<table border=\"1\" class=\"dataframe\">\n",
       "  <thead>\n",
       "    <tr style=\"text-align: right;\">\n",
       "      <th></th>\n",
       "      <th>s_mse_eml_bart</th>\n",
       "      <th>t_mse_eml_bart</th>\n",
       "      <th>x_mse_eml_bart</th>\n",
       "      <th>sample_sizes</th>\n",
       "    </tr>\n",
       "  </thead>\n",
       "  <tbody>\n",
       "    <tr>\n",
       "      <th>0</th>\n",
       "      <td>1335.866008</td>\n",
       "      <td>269.392548</td>\n",
       "      <td>111.204931</td>\n",
       "      <td>5000</td>\n",
       "    </tr>\n",
       "    <tr>\n",
       "      <th>1</th>\n",
       "      <td>1264.001663</td>\n",
       "      <td>326.016557</td>\n",
       "      <td>111.525455</td>\n",
       "      <td>6000</td>\n",
       "    </tr>\n",
       "    <tr>\n",
       "      <th>2</th>\n",
       "      <td>973.768364</td>\n",
       "      <td>275.346093</td>\n",
       "      <td>90.346029</td>\n",
       "      <td>7000</td>\n",
       "    </tr>\n",
       "    <tr>\n",
       "      <th>3</th>\n",
       "      <td>1056.171401</td>\n",
       "      <td>251.142522</td>\n",
       "      <td>115.194133</td>\n",
       "      <td>8000</td>\n",
       "    </tr>\n",
       "    <tr>\n",
       "      <th>4</th>\n",
       "      <td>1061.127130</td>\n",
       "      <td>189.551937</td>\n",
       "      <td>107.050766</td>\n",
       "      <td>8500</td>\n",
       "    </tr>\n",
       "    <tr>\n",
       "      <th>0</th>\n",
       "      <td>1612.804187</td>\n",
       "      <td>248.131221</td>\n",
       "      <td>120.484941</td>\n",
       "      <td>10000</td>\n",
       "    </tr>\n",
       "    <tr>\n",
       "      <th>1</th>\n",
       "      <td>1171.756162</td>\n",
       "      <td>217.899269</td>\n",
       "      <td>130.673601</td>\n",
       "      <td>12000</td>\n",
       "    </tr>\n",
       "  </tbody>\n",
       "</table>\n",
       "</div>"
      ],
      "text/plain": [
       "   s_mse_eml_bart  t_mse_eml_bart  x_mse_eml_bart  sample_sizes\n",
       "0     1335.866008      269.392548      111.204931          5000\n",
       "1     1264.001663      326.016557      111.525455          6000\n",
       "2      973.768364      275.346093       90.346029          7000\n",
       "3     1056.171401      251.142522      115.194133          8000\n",
       "4     1061.127130      189.551937      107.050766          8500\n",
       "0     1612.804187      248.131221      120.484941         10000\n",
       "1     1171.756162      217.899269      130.673601         12000"
      ]
     },
     "execution_count": 12,
     "metadata": {
      "tags": []
     },
     "output_type": "execute_result"
    }
   ],
   "source": [
    "df_2 = df_2[['s_mse_eml_bart', 't_mse_eml_bart', 'x_mse_eml_bart', \"sample_sizes\"]]\n",
    "df_1 = df_1[['s_mse_eml_bart', 't_mse_eml_bart', 'x_mse_eml_bart', \"sample_sizes\"]]\n",
    "df_total = pd.concat([df_1, df_2])\n",
    "df_total"
   ]
  },
  {
   "cell_type": "code",
   "execution_count": null,
   "metadata": {
    "colab": {
     "base_uri": "https://localhost:8080/",
     "height": 295
    },
    "id": "98l9stvOzpcg",
    "outputId": "52c5b707-8976-400f-fd1a-adad13ec1b06"
   },
   "outputs": [
    {
     "data": {
      "image/png": "[encoded data removed]",
      "text/plain": [
       "<Figure size 432x288 with 1 Axes>"
      ]
     },
     "metadata": {
      "needs_background": "light",
      "tags": []
     },
     "output_type": "display_data"
    }
   ],
   "source": [
    "fig1 = plt.gcf()\n",
    "plt.plot(df_total['sample_sizes'], df_total['s_mse_eml_bart'], \"green\", label=\"s_learner\", marker='.')\n",
    "plt.plot(df_total['sample_sizes'] ,df_total['t_mse_eml_bart'], \"grey\",  label=\"t_learner\", marker='^')\n",
    "plt.plot(df_total['sample_sizes'], df_total['x_mse_eml_bart'], \"blue\",  label=\"x_learner\", marker='|')\n",
    "plt.legend()\n",
    "plt.title(\"MSE\")\n",
    "plt.xlabel('Training Sizes')\n",
    "plt.show()\n",
    "fig1.savefig(\"SI2_BART_MSE.png\")"
   ]
  },
  {
   "cell_type": "code",
   "execution_count": null,
   "metadata": {
    "id": "4irn87-W0E7H"
   },
   "outputs": [],
   "source": []
  }
 ],
 "metadata": {
  "colab": {
   "collapsed_sections": [],
   "machine_shape": "hm",
   "name": "simulation.ipynb",
   "provenance": []
  },
  "kernelspec": {
   "display_name": "Python 3",
   "language": "python",
   "name": "python3"
  },
  "language_info": {
   "codemirror_mode": {
    "name": "ipython",
    "version": 3
   },
   "file_extension": ".py",
   "mimetype": "text/x-python",
   "name": "python",
   "nbconvert_exporter": "python",
   "pygments_lexer": "ipython3",
   "version": "3.7.10"
  }
 },
 "nbformat": 4,
 "nbformat_minor": 1
}

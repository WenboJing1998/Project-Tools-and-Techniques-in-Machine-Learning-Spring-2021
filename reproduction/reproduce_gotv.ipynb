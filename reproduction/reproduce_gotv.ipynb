{
 "cells": [
  {
   "cell_type": "markdown",
   "metadata": {},
   "source": [
    "This code is used to reproduce the experiments ran on the Go Out To Vote (GOTV) dataset. We used the EconML for the implementation of metalearners from Microsoft."
   ]
  },
  {
   "cell_type": "code",
   "execution_count": null,
   "metadata": {
    "colab": {
     "base_uri": "https://localhost:8080/"
    },
    "id": "jYcHhr89t2I_",
    "outputId": "29035a81-d533-4d44-f51f-81b3efc7edae"
   },
   "outputs": [
    {
     "name": "stdout",
     "output_type": "stream",
     "text": [
      "Mounted at /content/drive\n"
     ]
    }
   ],
   "source": [
    "# mount the drive\n",
    "from google.colab import drive\n",
    "drive.mount('/content/drive')"
   ]
  },
  {
   "cell_type": "code",
   "execution_count": null,
   "metadata": {
    "colab": {
     "base_uri": "https://localhost:8080/"
    },
    "id": "hd4D4ofZ0b3G",
    "outputId": "04fac0d7-e4ab-47df-922a-2410b36fe308"
   },
   "outputs": [
    {
     "name": "stdout",
     "output_type": "stream",
     "text": [
      "/content/drive/.shortcut-targets-by-id/1H5Ax63mdntm9bISC1wKbAJiQG5lq4BxA/TTML Final Project\n"
     ]
    }
   ],
   "source": [
    "cd /content/drive/My Drive/TTML Final Project"
   ]
  },
  {
   "cell_type": "code",
   "execution_count": null,
   "metadata": {
    "id": "gYT5poH80jE1"
   },
   "outputs": [],
   "source": [
    "import numpy as np\n",
    "import pandas as pd"
   ]
  },
  {
   "cell_type": "code",
   "execution_count": null,
   "metadata": {
    "colab": {
     "base_uri": "https://localhost:8080/",
     "height": 419
    },
    "id": "dNZ7rVf11eaX",
    "outputId": "7b245b95-30f1-4957-c556-1074eefe4750"
   },
   "outputs": [
    {
     "data": {
      "text/html": [
       "<div>\n",
       "<style scoped>\n",
       "    .dataframe tbody tr th:only-of-type {\n",
       "        vertical-align: middle;\n",
       "    }\n",
       "\n",
       "    .dataframe tbody tr th {\n",
       "        vertical-align: top;\n",
       "    }\n",
       "\n",
       "    .dataframe thead th {\n",
       "        text-align: right;\n",
       "    }\n",
       "</style>\n",
       "<table border=\"1\" class=\"dataframe\">\n",
       "  <thead>\n",
       "    <tr style=\"text-align: right;\">\n",
       "      <th></th>\n",
       "      <th>sex</th>\n",
       "      <th>g2000</th>\n",
       "      <th>g2002</th>\n",
       "      <th>p2000</th>\n",
       "      <th>p2002</th>\n",
       "      <th>p2004</th>\n",
       "      <th>age</th>\n",
       "      <th>treatment</th>\n",
       "    </tr>\n",
       "  </thead>\n",
       "  <tbody>\n",
       "    <tr>\n",
       "      <th>0</th>\n",
       "      <td>1</td>\n",
       "      <td>1</td>\n",
       "      <td>1</td>\n",
       "      <td>0</td>\n",
       "      <td>1</td>\n",
       "      <td>0</td>\n",
       "      <td>65</td>\n",
       "      <td>1</td>\n",
       "    </tr>\n",
       "    <tr>\n",
       "      <th>1</th>\n",
       "      <td>0</td>\n",
       "      <td>1</td>\n",
       "      <td>1</td>\n",
       "      <td>0</td>\n",
       "      <td>1</td>\n",
       "      <td>0</td>\n",
       "      <td>59</td>\n",
       "      <td>1</td>\n",
       "    </tr>\n",
       "    <tr>\n",
       "      <th>2</th>\n",
       "      <td>1</td>\n",
       "      <td>0</td>\n",
       "      <td>0</td>\n",
       "      <td>0</td>\n",
       "      <td>0</td>\n",
       "      <td>0</td>\n",
       "      <td>25</td>\n",
       "      <td>0</td>\n",
       "    </tr>\n",
       "    <tr>\n",
       "      <th>3</th>\n",
       "      <td>0</td>\n",
       "      <td>1</td>\n",
       "      <td>1</td>\n",
       "      <td>0</td>\n",
       "      <td>1</td>\n",
       "      <td>0</td>\n",
       "      <td>47</td>\n",
       "      <td>0</td>\n",
       "    </tr>\n",
       "    <tr>\n",
       "      <th>4</th>\n",
       "      <td>1</td>\n",
       "      <td>1</td>\n",
       "      <td>1</td>\n",
       "      <td>0</td>\n",
       "      <td>1</td>\n",
       "      <td>0</td>\n",
       "      <td>50</td>\n",
       "      <td>0</td>\n",
       "    </tr>\n",
       "    <tr>\n",
       "      <th>...</th>\n",
       "      <td>...</td>\n",
       "      <td>...</td>\n",
       "      <td>...</td>\n",
       "      <td>...</td>\n",
       "      <td>...</td>\n",
       "      <td>...</td>\n",
       "      <td>...</td>\n",
       "      <td>...</td>\n",
       "    </tr>\n",
       "    <tr>\n",
       "      <th>229456</th>\n",
       "      <td>1</td>\n",
       "      <td>1</td>\n",
       "      <td>1</td>\n",
       "      <td>0</td>\n",
       "      <td>1</td>\n",
       "      <td>1</td>\n",
       "      <td>63</td>\n",
       "      <td>0</td>\n",
       "    </tr>\n",
       "    <tr>\n",
       "      <th>229457</th>\n",
       "      <td>1</td>\n",
       "      <td>1</td>\n",
       "      <td>1</td>\n",
       "      <td>1</td>\n",
       "      <td>0</td>\n",
       "      <td>1</td>\n",
       "      <td>51</td>\n",
       "      <td>0</td>\n",
       "    </tr>\n",
       "    <tr>\n",
       "      <th>229458</th>\n",
       "      <td>0</td>\n",
       "      <td>1</td>\n",
       "      <td>0</td>\n",
       "      <td>0</td>\n",
       "      <td>0</td>\n",
       "      <td>0</td>\n",
       "      <td>48</td>\n",
       "      <td>0</td>\n",
       "    </tr>\n",
       "    <tr>\n",
       "      <th>229459</th>\n",
       "      <td>1</td>\n",
       "      <td>1</td>\n",
       "      <td>1</td>\n",
       "      <td>1</td>\n",
       "      <td>1</td>\n",
       "      <td>1</td>\n",
       "      <td>69</td>\n",
       "      <td>0</td>\n",
       "    </tr>\n",
       "    <tr>\n",
       "      <th>229460</th>\n",
       "      <td>0</td>\n",
       "      <td>1</td>\n",
       "      <td>1</td>\n",
       "      <td>0</td>\n",
       "      <td>0</td>\n",
       "      <td>1</td>\n",
       "      <td>57</td>\n",
       "      <td>0</td>\n",
       "    </tr>\n",
       "  </tbody>\n",
       "</table>\n",
       "<p>229461 rows × 8 columns</p>\n",
       "</div>"
      ],
      "text/plain": [
       "        sex  g2000  g2002  p2000  p2002  p2004  age  treatment\n",
       "0         1      1      1      0      1      0   65          1\n",
       "1         0      1      1      0      1      0   59          1\n",
       "2         1      0      0      0      0      0   25          0\n",
       "3         0      1      1      0      1      0   47          0\n",
       "4         1      1      1      0      1      0   50          0\n",
       "...     ...    ...    ...    ...    ...    ...  ...        ...\n",
       "229456    1      1      1      0      1      1   63          0\n",
       "229457    1      1      1      1      0      1   51          0\n",
       "229458    0      1      0      0      0      0   48          0\n",
       "229459    1      1      1      1      1      1   69          0\n",
       "229460    0      1      1      0      0      1   57          0\n",
       "\n",
       "[229461 rows x 8 columns]"
      ]
     },
     "execution_count": 5,
     "metadata": {
      "tags": []
     },
     "output_type": "execute_result"
    }
   ],
   "source": [
    "df.iloc[:,1:-1]"
   ]
  },
  {
   "cell_type": "markdown",
   "metadata": {
    "id": "d7vN80nYn1pE"
   },
   "source": [
    "# GOTV EconML"
   ]
  },
  {
   "cell_type": "code",
   "execution_count": null,
   "metadata": {
    "id": "wArFfSdun4b0"
   },
   "outputs": [],
   "source": [
    "df = pd.read_csv(\"gotv.csv\", header=0, names=[\"ID\", 'sex', 'g2000', 'g2002', 'p2000', 'p2002', 'p2004', 'age', 'treatment', 'voted'])"
   ]
  },
  {
   "cell_type": "code",
   "execution_count": null,
   "metadata": {
    "id": "jAut6cEOn5FA"
   },
   "outputs": [],
   "source": [
    "from sklearn.model_selection import train_test_split\n",
    "np.random.seed(7)\n",
    "trainset, testset = train_test_split(df, test_size=0.2, stratify=df['treatment'])"
   ]
  },
  {
   "cell_type": "code",
   "execution_count": null,
   "metadata": {
    "id": "PQ5p3rFHoRw_"
   },
   "outputs": [],
   "source": [
    "full_X = df.iloc[:, 1:-2]\n",
    "full_tr = df['treatment']\n",
    "full_Y =  df['voted']\n",
    "\n",
    "train_X = trainset.iloc[:,1:-2]\n",
    "train_tr = trainset['treatment']\n",
    "train_Y =  trainset['voted']\n",
    "\n",
    "test_X = testset.iloc[:,1:-2]\n",
    "test_tr = testset['treatment']\n",
    "test_Y = testset['voted']"
   ]
  },
  {
   "cell_type": "code",
   "execution_count": null,
   "metadata": {
    "colab": {
     "base_uri": "https://localhost:8080/"
    },
    "id": "tc3gSEQmoAan",
    "outputId": "2788864c-a90c-4912-eac8-352a13948a5d"
   },
   "outputs": [
    {
     "data": {
      "text/plain": [
       "<econml.metalearners._metalearners.TLearner at 0x7f3412a700d0>"
      ]
     },
     "execution_count": 49,
     "metadata": {
      "tags": []
     },
     "output_type": "execute_result"
    }
   ],
   "source": [
    "# set up ground truth\n",
    "models = RandomForestRegressor()\n",
    "T_learner_truth = TLearner(models=models)\n",
    "# Train T_learner\n",
    "T_learner_truth.fit(X=full_X, T=full_tr, Y=full_Y)\n",
    "# Estimate treatment effects on test data\n",
    "T_te_ground_truth = T_learner_truth.effect(test_X)"
   ]
  },
  {
   "cell_type": "code",
   "execution_count": null,
   "metadata": {
    "colab": {
     "base_uri": "https://localhost:8080/"
    },
    "id": "JHqP43uFpZXp",
    "outputId": "90cf0169-0bc0-4b20-9ca7-66a8e8437a7c"
   },
   "outputs": [
    {
     "name": "stderr",
     "output_type": "stream",
     "text": [
      "\n",
      "\n",
      "  0%|          | 0/12 [00:00<?, ?it/s]\u001b[A\u001b[A\n",
      "\n",
      "  8%|▊         | 1/12 [00:19<03:39, 19.95s/it]\u001b[A\u001b[A\n",
      "\n",
      " 17%|█▋        | 2/12 [00:42<03:27, 20.70s/it]\u001b[A\u001b[A\n",
      "\n",
      " 25%|██▌       | 3/12 [01:06<03:15, 21.73s/it]\u001b[A\u001b[A\n",
      "\n",
      " 33%|███▎      | 4/12 [01:31<03:01, 22.74s/it]\u001b[A\u001b[A\n",
      "\n",
      " 42%|████▏     | 5/12 [01:57<02:45, 23.65s/it]\u001b[A\u001b[A\n",
      "\n",
      " 50%|█████     | 6/12 [02:24<02:28, 24.81s/it]\u001b[A\u001b[A\n",
      "\n",
      " 58%|█████▊    | 7/12 [02:55<02:12, 26.41s/it]\u001b[A\u001b[A\n",
      "\n",
      " 67%|██████▋   | 8/12 [03:26<01:52, 28.06s/it]\u001b[A\u001b[A\n",
      "\n",
      " 75%|███████▌  | 9/12 [04:02<01:30, 30.20s/it]\u001b[A\u001b[A\n",
      "\n",
      " 83%|████████▎ | 10/12 [04:39<01:04, 32.40s/it]\u001b[A\u001b[A\n",
      "\n",
      " 92%|█████████▏| 11/12 [05:19<00:34, 34.48s/it]\u001b[A\u001b[A\n",
      "\n",
      "100%|██████████| 12/12 [06:00<00:00, 30.05s/it]\n"
     ]
    }
   ],
   "source": [
    "s_bias = []\n",
    "t_bias = []\n",
    "x_bias = []\n",
    "s_var = []\n",
    "t_var = []\n",
    "x_var = []\n",
    "s_mse = []\n",
    "t_mse = []\n",
    "x_mse = []\n",
    "S_te_list = []\n",
    "X_te_list = []\n",
    "T_te_list = []\n",
    "\n",
    "sample_size = np.array([1000,2000,3000,4000,5000,8000,15000,22000,35000,50000,60000, 70000])\n",
    "\n",
    "for s in tqdm(sample_size):\n",
    "    train_data, test_data = train_test_split(df, train_size=s, test_size=df.shape[0]-s, stratify=df['treatment'])\n",
    "    train_X = train_data.iloc[:,1:-2]\n",
    "    train_tr = train_data['treatment']\n",
    "    train_Y =  train_data['voted']\n",
    "\n",
    "    test_X = test_data.iloc[:,1:-2]\n",
    "    test_tr = test_data['treatment']\n",
    "    test_Y = test_data['voted']\n",
    "    \n",
    "    # ground truth\n",
    "    T_te_ground_truth = T_learner_truth.effect(test_X)\n",
    "\n",
    "    models = RandomForestRegressor()\n",
    "    T_learner = TLearner(models=models)\n",
    "    # Train T_learner\n",
    "    T_learner.fit(X=train_X, T=train_tr , Y=train_Y)\n",
    "    # Estimate treatment effects on test data\n",
    "    T_te = T_learner.effect(test_X)\n",
    "    # T_te_list.append(T_te)\n",
    "\n",
    "    # # Instantiate S learner\n",
    "    overall_model = RandomForestRegressor()\n",
    "    S_learner = SLearner(overall_model=overall_model)\n",
    "    # Train S_learner\n",
    "    S_learner.fit(X=train_X, T=train_tr , Y=train_Y)\n",
    "    # Estimate treatment effects on test data\n",
    "    S_te = S_learner.effect(test_X)\n",
    "    # S_te_list.append(S_te)\n",
    "\n",
    "    # # Instantiate X learner\n",
    "    models = RandomForestRegressor()\n",
    "    propensity_model = RandomForestClassifier(n_estimators=80, max_depth=3, \n",
    "                                                      min_samples_leaf=int(n/100))\n",
    "    X_learner = XLearner(models=models, propensity_model=propensity_model)\n",
    "    # Train X_learner\n",
    "    X_learner.fit(X=train_X, T=train_tr , Y=train_Y)\n",
    "\n",
    "    # Estimate treatment effects on test data\n",
    "    X_te = X_learner.effect(test_X)\n",
    "    # X_te_list.append(X_te)\n",
    "\n",
    "    s_mse.append(np.mean((S_te - T_te_ground_truth)**2))\n",
    "    x_mse.append(np.mean((X_te - T_te_ground_truth)**2))\n",
    "    t_mse.append(np.mean((T_te - T_te_ground_truth)**2))\n",
    "\n",
    "    s_bias.append(np.mean(np.abs(S_te - T_te_ground_truth)))\n",
    "    x_bias.append(np.mean(np.abs(X_te - T_te_ground_truth)))\n",
    "    t_bias.append(np.mean(np.abs(T_te - T_te_ground_truth)))\n",
    "\n",
    "    s_var.append(np.var(S_te))\n",
    "    x_var.append(np.var(X_te))\n",
    "    t_var.append(np.var(T_te))\n",
    "\n",
    "\n",
    "    # s_bias_eml_rf = [np.mean(np.abs(est - T_te_ground_truth)) for est in S_te_list]\n",
    "    # x_bias_eml_rf = [np.mean(np.abs(est - T_te_ground_truth)) for est in X_te_list]\n",
    "    # t_bias_eml_rf = [np.mean(np.abs(est - T_te_ground_truth)) for est in T_te_list]\n",
    "\n",
    "    # s_var_eml_rf = [np.var(est) for est in S_te_list]\n",
    "    # x_var_eml_rf = [np.var(est) for est in X_te_list]\n",
    "    # t_var_eml_rf = [np.var(est) for est in T_te_list]\n",
    "\n",
    "    results_error_rf = pd.DataFrame(data={\n",
    "                                 \"s_mse_eml_rf\":s_mse, \n",
    "                                 \"t_mse_eml_rf\":t_mse, \n",
    "                                 \"x_mse_eml_rf\": x_mse,\n",
    "\n",
    "                                 \"s_bias_eml_rf\":s_bias,\n",
    "                                 \"x_bias_eml_rf\":x_bias,\n",
    "                                 \"t_bias_eml_rf\":t_bias,\n",
    "\n",
    "                                 \"s_var_eml_rf\":s_var,\n",
    "                                 \"x_var_eml_rf\":x_var,\n",
    "                                 \"t_var_eml_rf\":t_var})\n",
    "    \n",
    "    results_error_rf.to_csv(f\"GOTV_results_error_rf_max_{s}_ROUND_1.csv\")"
   ]
  },
  {
   "cell_type": "code",
   "execution_count": null,
   "metadata": {
    "id": "VjsGrzi1q2mg"
   },
   "outputs": [],
   "source": [
    "df_gotv = pd.read_csv(f\"GOTV_results_error_rf_max_{70_000}_ROUND_1.csv\")\n",
    "df_gotv['sample_sizes'] = sample_size"
   ]
  },
  {
   "cell_type": "code",
   "execution_count": null,
   "metadata": {
    "colab": {
     "base_uri": "https://localhost:8080/",
     "height": 295
    },
    "id": "qTv2bSiLr4KG",
    "outputId": "89ff5a02-16a7-4b36-d2cb-060d38e9ea5c"
   },
   "outputs": [
    {
     "data": {
      "image/png": "[encoded data removed]",
      "text/plain": [
       "<Figure size 432x288 with 1 Axes>"
      ]
     },
     "metadata": {
      "needs_background": "light",
      "tags": []
     },
     "output_type": "display_data"
    }
   ],
   "source": [
    "fig1 = plt.gcf()\n",
    "plt.plot(df_gotv['sample_sizes'], np.sqrt(df_gotv['s_mse_eml_rf']), \"green\", label=\"s_learner\", marker='.')\n",
    "plt.plot(df_gotv['sample_sizes'] ,np.sqrt(df_gotv['t_mse_eml_rf']), \"grey\",  label=\"t_learner\", marker='^')\n",
    "plt.plot(df_gotv['sample_sizes'], np.sqrt(df_gotv['x_mse_eml_rf']), \"blue\",  label=\"x_learner\", marker='|')\n",
    "plt.legend()\n",
    "plt.title(\"RMSE\")\n",
    "plt.xlabel('Training Sizes')\n",
    "plt.show()\n",
    "fig1.savefig(\"GOTV_RF_RMSE_python.png\")"
   ]
  },
  {
   "cell_type": "code",
   "execution_count": null,
   "metadata": {
    "colab": {
     "base_uri": "https://localhost:8080/",
     "height": 295
    },
    "id": "jhMO4x2cr58O",
    "outputId": "f9773e81-b481-4b74-9a17-ac6ad8212cad"
   },
   "outputs": [
    {
     "data": {
      "image/png": "[encoded data removed]",
      "text/plain": [
       "<Figure size 432x288 with 1 Axes>"
      ]
     },
     "metadata": {
      "needs_background": "light",
      "tags": []
     },
     "output_type": "display_data"
    }
   ],
   "source": [
    "fig1 = plt.gcf()\n",
    "plt.plot(df_gotv['sample_sizes'], np.sqrt(df_gotv['s_bias_eml_rf']), \"green\", label=\"s_learner\", marker='.')\n",
    "plt.plot(df_gotv['sample_sizes'] ,np.sqrt(df_gotv['t_bias_eml_rf']), \"grey\",  label=\"t_learner\", marker='^')\n",
    "plt.plot(df_gotv['sample_sizes'], np.sqrt(df_gotv['x_bias_eml_rf']), \"blue\",  label=\"x_learner\", marker='|')\n",
    "plt.legend()\n",
    "plt.title(\"Bias\")\n",
    "plt.xlabel('Training Sizes')\n",
    "plt.show()\n",
    "fig1.savefig(\"GOTV_RF_Bias_python.png\")"
   ]
  },
  {
   "cell_type": "code",
   "execution_count": null,
   "metadata": {
    "colab": {
     "base_uri": "https://localhost:8080/",
     "height": 295
    },
    "id": "mbvE5eDysMdm",
    "outputId": "fbf83371-23b9-45ec-ac86-49992b18205e"
   },
   "outputs": [
    {
     "data": {
      "image/png": "[encoded data removed]",
      "text/plain": [
       "<Figure size 432x288 with 1 Axes>"
      ]
     },
     "metadata": {
      "needs_background": "light",
      "tags": []
     },
     "output_type": "display_data"
    }
   ],
   "source": [
    "fig1 = plt.gcf()\n",
    "plt.plot(df_gotv['sample_sizes'], np.sqrt(df_gotv['s_var_eml_rf']), \"green\", label=\"s_learner\", marker='.')\n",
    "plt.plot(df_gotv['sample_sizes'] ,np.sqrt(df_gotv['t_var_eml_rf']), \"grey\",  label=\"t_learner\", marker='^')\n",
    "plt.plot(df_gotv['sample_sizes'], np.sqrt(df_gotv['x_var_eml_rf']), \"blue\",  label=\"x_learner\", marker='|')\n",
    "plt.legend()\n",
    "plt.title(\"Variance\")\n",
    "plt.xlabel('Training Sizes')\n",
    "plt.show()\n",
    "fig1.savefig(\"GOTV_RF_Variance_python.png\")"
   ]
  },
  {
   "cell_type": "code",
   "execution_count": null,
   "metadata": {
    "id": "9H1B30qxsT7g"
   },
   "outputs": [],
   "source": []
  },
  {
   "cell_type": "code",
   "execution_count": null,
   "metadata": {
    "id": "R6EkbRsWVL1l"
   },
   "outputs": [],
   "source": []
  }
 ],
 "metadata": {
  "colab": {
   "collapsed_sections": [
    "d7vN80nYn1pE"
   ],
   "machine_shape": "hm",
   "name": "Selection_Bias.ipynb",
   "provenance": []
  },
  "kernelspec": {
   "display_name": "Python 3",
   "language": "python",
   "name": "python3"
  },
  "language_info": {
   "codemirror_mode": {
    "name": "ipython",
    "version": 3
   },
   "file_extension": ".py",
   "mimetype": "text/x-python",
   "name": "python",
   "nbconvert_exporter": "python",
   "pygments_lexer": "ipython3",
   "version": "3.7.10"
  }
 },
 "nbformat": 4,
 "nbformat_minor": 1
}
